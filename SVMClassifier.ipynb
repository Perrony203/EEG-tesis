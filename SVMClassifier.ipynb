{
 "cells": [
  {
   "cell_type": "markdown",
   "metadata": {},
   "source": [
    "# TinyML - Support Vector Machine (Classifier)"
   ]
  },
  {
   "cell_type": "code",
   "execution_count": 1,
   "metadata": {},
   "outputs": [],
   "source": [
    "#!pip install micromlgen"
   ]
  },
  {
   "cell_type": "markdown",
   "metadata": {},
   "source": [
    "## 1. Importing libraries"
   ]
  },
  {
   "cell_type": "code",
   "execution_count": 1,
   "metadata": {},
   "outputs": [],
   "source": [
    "from micromlgen import port\n",
    "import pandas as pd\n",
    "import plotly.graph_objects as go\n",
    "import numpy as np\n",
    "import plotly.express as px\n",
    "import matplotlib.pyplot as plt\n",
    "import os\n",
    "import csv\n",
    "\n",
    "from sklearn.svm import SVC\n",
    "from sklearn.calibration import LabelEncoder\n",
    "from sklearn.datasets import load_iris\n",
    "from sklearn.model_selection import train_test_split\n",
    "from sklearn.model_selection import RandomizedSearchCV\n",
    "from sklearn.metrics import classification_report, accuracy_score\n",
    "from sklearn.metrics import make_scorer, roc_auc_score\n",
    "from mlxtend.plotting import plot_decision_regions\n",
    "from sklearn import metrics"
   ]
  },
  {
   "cell_type": "markdown",
   "metadata": {},
   "source": [
    "## 2. Load Dataset"
   ]
  },
  {
   "cell_type": "code",
   "execution_count": 2,
   "metadata": {},
   "outputs": [],
   "source": [
    "#########################################\n",
    "# Funciones para leer y procesar el CSV\n",
    "#########################################\n",
    "def leer_csv_a_arreglo(ruta_archivo):\n",
    "    \"\"\"\n",
    "    Lee un archivo CSV en el que:\n",
    "      - Las columnas están separadas por ';'\n",
    "      - La primera columna es el target.\n",
    "      - Las siguientes 5 columnas contienen 4 valores cada una, separados por ','.\n",
    "    Cada fila resultante tendrá 21 elementos: 1 target y 20 features.\n",
    "    \"\"\"\n",
    "    datos = []\n",
    "    with open(ruta_archivo, newline='', encoding='utf-8') as archivo:\n",
    "        lector = csv.reader(archivo, delimiter=';')\n",
    "        for fila in lector:\n",
    "            fila_completa = []\n",
    "            for i, columna in enumerate(fila):\n",
    "                if i == 0:\n",
    "                    # Primer valor: target (se toma tal cual)\n",
    "                    fila_completa.append(columna.strip())\n",
    "                else:\n",
    "                    # Las columnas restantes se dividen por coma\n",
    "                    valores = [valor.strip() for valor in columna.split(',')]\n",
    "                    fila_completa.extend(valores)\n",
    "            if len(fila_completa) == 21:\n",
    "                datos.append(fila_completa)\n",
    "            else:\n",
    "                continue\n",
    "    return datos\n",
    "\n",
    "def lista_a_diccionario(lista):\n",
    "    \"\"\"\n",
    "    Transforma una lista de listas en un diccionario con dos llaves:\n",
    "      - 'target': array con el primer elemento de cada fila.\n",
    "      - 'data': array de arrays con el resto de los elementos de cada fila.\n",
    "    \"\"\"\n",
    "    diccionario = {\n",
    "        'target': [fila[0] for fila in lista if fila],\n",
    "        'data': [fila[1:] for fila in lista if fila]\n",
    "    }\n",
    "    return diccionario"
   ]
  },
  {
   "cell_type": "code",
   "execution_count": 3,
   "metadata": {},
   "outputs": [],
   "source": [
    "#########################################\n",
    "# Cargar el CSV y preparar el DataFrame\n",
    "#########################################\n",
    "# Cambia 'tu_archivo.csv' por la ruta real de tu archivo CSV.\n",
    "ruta_csv = r'C:\\Users\\quija\\Desktop\\SVM_1.csv'\n",
    "lista_filas = leer_csv_a_arreglo(ruta_csv)\n",
    "data_dict = lista_a_diccionario(lista_filas)\n",
    "\n",
    "# Convertir los tipos:\n",
    "# - target a entero\n",
    "# - data a flotantes (se esperan 20 features por fila)\n",
    "data_dict['target'] = [int(x) for x in data_dict['target']]\n",
    "data_dict['data'] = [[float(val) for val in fila] for fila in data_dict['data']]"
   ]
  },
  {
   "cell_type": "code",
   "execution_count": 10,
   "metadata": {},
   "outputs": [
    {
     "name": "stdout",
     "output_type": "stream",
     "text": [
      "DataFrame head:\n",
      "             f1            f2         f3         f4            f5  \\\n",
      "0  4.103111e+06  1.645029e+08  28.679860  86.163669  2.059749e+07   \n",
      "1  4.103113e+06  1.645029e+08  28.679864  86.163691  2.059750e+07   \n",
      "2  4.103114e+06  1.645029e+08  28.679866  86.163703  2.059751e+07   \n",
      "3  4.103114e+06  1.645030e+08  28.679869  86.163720  2.059751e+07   \n",
      "4  4.103119e+06  1.645031e+08  28.679877  86.163764  2.059762e+07   \n",
      "\n",
      "             f6         f7          f8            f9           f10  ...  \\\n",
      "0  4.440014e+08  28.527794  143.508645  6.528351e+06  2.661408e+08  ...   \n",
      "1  4.440024e+08  28.527807  143.508835  6.528389e+06  2.661427e+08  ...   \n",
      "2  4.440030e+08  28.527814  143.508962  6.528416e+06  2.661441e+08  ...   \n",
      "3  4.440040e+08  28.527825  143.509123  6.528423e+06  2.661460e+08  ...   \n",
      "4  4.440062e+08  28.527855  143.509558  6.528624e+06  2.661505e+08  ...   \n",
      "\n",
      "          f12           f13           f14        f15         f16  \\\n",
      "0  106.764152  7.604239e+06  3.030725e+08  27.386423  113.609408   \n",
      "1  106.764632  7.604240e+06  3.030726e+08  27.386436  113.609467   \n",
      "2  106.764968  7.604241e+06  3.030727e+08  27.386443  113.609500   \n",
      "3  106.765388  7.604241e+06  3.030729e+08  27.386454  113.609546   \n",
      "4  106.766493  7.604250e+06  3.030731e+08  27.386481  113.609658   \n",
      "\n",
      "            f17           f18        f19        f20  target  \n",
      "0  2.506798e+06  5.647338e+07  30.467798  53.095203       1  \n",
      "1  2.506799e+06  5.647343e+07  30.467805  53.095237       2  \n",
      "2  2.506800e+06  5.647346e+07  30.467809  53.095256       3  \n",
      "3  2.506800e+06  5.647351e+07  30.467815  53.095285       4  \n",
      "4  2.506805e+06  5.647363e+07  30.467831  53.095357       3  \n",
      "\n",
      "[5 rows x 21 columns]\n"
     ]
    }
   ],
   "source": [
    "# Create a DataFrame\n",
    "# Generar nombres para las 20 características: f1, f2, ..., f20.\n",
    "feature_columns = [f\"f{i+1}\" for i in range(20)]\n",
    "df = pd.DataFrame(data_dict['data'], columns=feature_columns)\n",
    "df['target'] = data_dict['target']\n",
    "\n",
    "df = df[df[\"target\"] != 0].reset_index(drop=True)\n",
    "\n",
    "print(\"DataFrame head:\")\n",
    "print(df.head())"
   ]
  },
  {
   "cell_type": "code",
   "execution_count": 11,
   "metadata": {},
   "outputs": [
    {
     "name": "stdout",
     "output_type": "stream",
     "text": [
      "         f1        f2        f3        f4        f5        f6        f7  \\\n",
      "0 -1.811530 -1.823141 -2.339216 -1.916509 -2.192058 -1.886991 -1.805274   \n",
      "1 -1.762924 -1.760810 -2.196159 -1.839296 -2.114946 -1.813888 -1.749523   \n",
      "2 -1.717428 -1.729434 -2.124630 -1.797179 -2.053776 -1.767502 -1.719503   \n",
      "3 -1.714845 -1.673482 -2.017337 -1.737515 -2.043339 -1.698398 -1.672329   \n",
      "4 -1.517788 -1.547132 -1.731221 -1.583088 -1.425068 -1.534074 -1.543673   \n",
      "\n",
      "         f8        f9       f10  ...       f12       f13       f14       f15  \\\n",
      "0 -1.874656 -1.808023 -1.771854  ... -1.778087 -2.119015 -2.170043 -2.133085   \n",
      "1 -1.804224 -1.737606 -1.712409  ... -1.718609 -2.058322 -2.040577 -2.031834   \n",
      "2 -1.757146 -1.686036 -1.672238  ... -1.676974 -2.015618 -1.977341 -1.977314   \n",
      "3 -1.697464 -1.673987 -1.614121  ... -1.624930 -2.006581 -1.865671 -1.891640   \n",
      "4 -1.536212 -1.294971 -1.478251  ... -1.488006 -1.577916 -1.637811 -1.681350   \n",
      "\n",
      "        f16       f17       f18       f19       f20  target  \n",
      "0 -2.158499 -1.814624 -1.832940 -2.612458 -1.925695       1  \n",
      "1 -2.042055 -1.769525 -1.773017 -2.447453 -1.850907       2  \n",
      "2 -1.976926 -1.730452 -1.740459 -2.353164 -1.809114       3  \n",
      "3 -1.886139 -1.727265 -1.680742 -2.211731 -1.745324       4  \n",
      "4 -1.665093 -1.520564 -1.549499 -1.834577 -1.586948       3  \n",
      "\n",
      "[5 rows x 21 columns]\n"
     ]
    }
   ],
   "source": [
    "from sklearn.preprocessing import StandardScaler\n",
    "\n",
    "scaler = StandardScaler()\n",
    "df[feature_columns] = scaler.fit_transform(df[feature_columns])\n",
    "print(df.head())"
   ]
  },
  {
   "cell_type": "code",
   "execution_count": 12,
   "metadata": {},
   "outputs": [
    {
     "name": "stdout",
     "output_type": "stream",
     "text": [
      "[0 1 2 3 2 1 2 3 2 2 3 3 2 1 2 3 1 2 3 0 2 1 2 1 0 0 3 2 2 3 0 3 2 1 3 0 1\n",
      " 0 1 1 0 3 3 1 1 0 2 0 3 0 1 3 2 1 0 0 3 0 1 3 2 1 0 0]\n"
     ]
    }
   ],
   "source": [
    "#########################################\n",
    "# Preparar datos para el modelo\n",
    "#########################################\n",
    "X = df[feature_columns].to_numpy()\n",
    "y = df['target'].to_numpy()\n",
    "\n",
    "# Si fuera necesario (por ejemplo, si los targets fueran cadenas), se puede usar LabelEncoder.\n",
    "y = LabelEncoder().fit_transform(y)\n",
    "\n",
    "print (y)"
   ]
  },
  {
   "cell_type": "code",
   "execution_count": 17,
   "metadata": {},
   "outputs": [
    {
     "name": "stdout",
     "output_type": "stream",
     "text": [
      "Valores únicos en y antes de LabelEncoder: [0 1 2 3]\n"
     ]
    }
   ],
   "source": [
    "print(\"Valores únicos en y antes de LabelEncoder:\", np.unique(y))\n"
   ]
  },
  {
   "cell_type": "markdown",
   "metadata": {},
   "source": [
    "## 3. Dataset Visualization "
   ]
  },
  {
   "cell_type": "code",
   "execution_count": 13,
   "metadata": {},
   "outputs": [
    {
     "data": {
      "application/vnd.plotly.v1+json": {
       "config": {
        "plotlyServerURL": "https://plot.ly"
       },
       "data": [
        {
         "marker": {
          "color": "blue"
         },
         "mode": "markers",
         "type": "scatter3d",
         "x": {
          "bdata": "9Jz2pAb8/L/EMFdK8DT8v3NWgd+Vevu/BfrBfAFw+7/gNv1S3Ej4v1s71Yj1I/e/xfSGFm1o9b925XAfrtvzvxCLpl8yrPO/mjAvzQKy8r+0+gUTWH7xv+7cW0KYmPC/Uu/g9AQB8L+aH+8R5V7vv12d/+aYl+6/TYwMKda867+8aGHaX3Prv7J0iGRJKeq/j9nWsm4h6b8Bgnyv8njovx8+L+g+tee/F9xve3m35L+jT6mklo/iv8OLqRBK/+G/NagaIc553b+8w8rAa17Yv5LZ6H4QZdW/gJ4dTVO20b8le01MXDnKv5QAVAnuf+I+g8uYOtK3lj/fkWztWoC8PwkC4Hy7bsU/pMRIrcUnyz8dmzM1grvNPyZgev+KZc4/fJS3x54I0T8kiND0vzLXP+kb3CqIc9g/NIfR/kay3T/hQvqRZtrlP+dIg4Mwo+Y/HkLNTMrs5j+vtRmq2DboP6G0OmJHK+k/kkHb0ibp6T8O4FkQ/AnrP3kT8otqpes/lJfdekRB7T88Ktj8OmjtP/F3mELRcu4/MRHGtdC27z/sE+nRTgbxP+x5pdXgrPE/m0Tdv/h+8j/Kl5fcrQX1P/sRIUiGG/U/Q02yjVsm9T+WXXYa1pP1Pzcfv00iQPY/aOomCWSu9j98d6qyOQv3P9uWXztY2fc/tqNNmspq+D8=",
          "dtype": "f8"
         },
         "y": {
          "bdata": "5GDTDJYr/b+MaIMGRyz8v9rlMq3Cq/u/8Ah4y5TG+r/5LKd2DcH4v658k7WSYfe/NBiX1Dux9r/Tvt5x4M31vxwOyL+QwvS/fEjxR96a879/IObzr4fyv5v9QVi0MfK/n76QPYM68b+LkmYv267vv5pjiyLyO+6/LqZEKsgd7L97r1pS8g/qv0iNqEZjEui/9CBeMFhM5r/MZck49P7kv2BQ7HncCuO/Mt3+2g+24L8mIEgHRwrev1aW7u940Nq/VHTYDRoI2b9B+8r4vtTQvyvFqwOZP86/pIg4IRZ7wr/+7xLTkjDBv4UMJwaF2LC/LoIXeKaznr+gZXzcbfepP9wi5F09hbQ/4rnMO2J0wD9tMGwweMnJP5gJGAOoKM0/16GjyESd0T8RxQVmtLfTP6mB5ZTB3dY/Qdzsg1fI2z9s+bWdyejgP3h0xwpT7OI/BJToDABJ5D8y5+cuewHmP9/Tc899e+g/AyRacguk6T8Bcmp+z3XqP18JbToBAew/V48rbko17T8cCu36HLfuP2LJItI2KO8/+iaw9U6J8D+l8+2DdfTwP8uHzO9hU/I/URjmvxOW8j/sQyCyII/zP1hmaSNYCPQ/+nFjkyXs9D/VVoAyecv1P4Weo/uiXPY/+8uehitu9z9nma25uiL4PwcYPuUQ6Pg/boG6yqZX+T8=",
          "dtype": "f8"
         },
         "z": {
          "bdata": "rUaADLe2AsBuPPOhu5EBwKpZqOw9/wDAKWO8XIEjAMDGJjMPFbP7vwBXEDoeafm/wEyDzyJE+L+AQvZkJx/3v7py048w1fS/NK09JTWw87/0orC6OYvyv7WYI1A+ZvG/1uCFYIpd779XzGuLkxPtv9e3Ubacyeq/RGeQdqpa57/FUnahsxDlv794xmHBoeG/Zds1GZWv3r9msgFvpxvav2eJzcS5h9W/TnN2Gszz0L+D0JWKqlPNv4V+LTbPK8S/19CsF8Mvv78PWYrD5we2v7hZuN0YwKm/o0ZFHQsvrT+jRkUdCy+tP4TPUONgv7c/3H3/G55zwD/AuRDGiwfFP9nPZ3B5m8k/8+W+Gmcvzj/4m5M3oavTPxGy6uGOP9g/EbLq4Y4/2D8Q2x6MfNPcPx1mSmFzHd8/HWZKYXMd3z8dZkphcx3fP45Hv4Ww2OE/FA1V8Kv94j+UIW/FokflPxrnBDCebOY/GucEMJ5s5j+Z+x4FlbboPyDBtG+Q2+k/IMG0b5Db6T8sTOBEhyXsP6xg+hl+b+4/MiaQhHmU7z+WOop3ulzwP1kd1Sw47/A/WR3VLDjv8D8cACDitYHxP9/iapczFPI/XAqtTLGm8j8f7fcBLznzP+LPQresy/M/XveEbCpe9D9e94RsKl70P+W8Gtclg/U/5bwa1yWD9T8=",
          "dtype": "f8"
         }
        }
       ],
       "layout": {
        "height": 600,
        "scene": {
         "camera": {
          "eye": {
           "x": 1.87,
           "y": 0.88,
           "z": -0.64
          }
         },
         "xaxis": {
          "title": {
           "text": "Feature 1"
          }
         },
         "yaxis": {
          "title": {
           "text": "Feature 2"
          }
         },
         "zaxis": {
          "title": {
           "text": "Feature 3"
          }
         }
        },
        "template": {
         "data": {
          "bar": [
           {
            "error_x": {
             "color": "#2a3f5f"
            },
            "error_y": {
             "color": "#2a3f5f"
            },
            "marker": {
             "line": {
              "color": "#E5ECF6",
              "width": 0.5
             },
             "pattern": {
              "fillmode": "overlay",
              "size": 10,
              "solidity": 0.2
             }
            },
            "type": "bar"
           }
          ],
          "barpolar": [
           {
            "marker": {
             "line": {
              "color": "#E5ECF6",
              "width": 0.5
             },
             "pattern": {
              "fillmode": "overlay",
              "size": 10,
              "solidity": 0.2
             }
            },
            "type": "barpolar"
           }
          ],
          "carpet": [
           {
            "aaxis": {
             "endlinecolor": "#2a3f5f",
             "gridcolor": "white",
             "linecolor": "white",
             "minorgridcolor": "white",
             "startlinecolor": "#2a3f5f"
            },
            "baxis": {
             "endlinecolor": "#2a3f5f",
             "gridcolor": "white",
             "linecolor": "white",
             "minorgridcolor": "white",
             "startlinecolor": "#2a3f5f"
            },
            "type": "carpet"
           }
          ],
          "choropleth": [
           {
            "colorbar": {
             "outlinewidth": 0,
             "ticks": ""
            },
            "type": "choropleth"
           }
          ],
          "contour": [
           {
            "colorbar": {
             "outlinewidth": 0,
             "ticks": ""
            },
            "colorscale": [
             [
              0,
              "#0d0887"
             ],
             [
              0.1111111111111111,
              "#46039f"
             ],
             [
              0.2222222222222222,
              "#7201a8"
             ],
             [
              0.3333333333333333,
              "#9c179e"
             ],
             [
              0.4444444444444444,
              "#bd3786"
             ],
             [
              0.5555555555555556,
              "#d8576b"
             ],
             [
              0.6666666666666666,
              "#ed7953"
             ],
             [
              0.7777777777777778,
              "#fb9f3a"
             ],
             [
              0.8888888888888888,
              "#fdca26"
             ],
             [
              1,
              "#f0f921"
             ]
            ],
            "type": "contour"
           }
          ],
          "contourcarpet": [
           {
            "colorbar": {
             "outlinewidth": 0,
             "ticks": ""
            },
            "type": "contourcarpet"
           }
          ],
          "heatmap": [
           {
            "colorbar": {
             "outlinewidth": 0,
             "ticks": ""
            },
            "colorscale": [
             [
              0,
              "#0d0887"
             ],
             [
              0.1111111111111111,
              "#46039f"
             ],
             [
              0.2222222222222222,
              "#7201a8"
             ],
             [
              0.3333333333333333,
              "#9c179e"
             ],
             [
              0.4444444444444444,
              "#bd3786"
             ],
             [
              0.5555555555555556,
              "#d8576b"
             ],
             [
              0.6666666666666666,
              "#ed7953"
             ],
             [
              0.7777777777777778,
              "#fb9f3a"
             ],
             [
              0.8888888888888888,
              "#fdca26"
             ],
             [
              1,
              "#f0f921"
             ]
            ],
            "type": "heatmap"
           }
          ],
          "histogram": [
           {
            "marker": {
             "pattern": {
              "fillmode": "overlay",
              "size": 10,
              "solidity": 0.2
             }
            },
            "type": "histogram"
           }
          ],
          "histogram2d": [
           {
            "colorbar": {
             "outlinewidth": 0,
             "ticks": ""
            },
            "colorscale": [
             [
              0,
              "#0d0887"
             ],
             [
              0.1111111111111111,
              "#46039f"
             ],
             [
              0.2222222222222222,
              "#7201a8"
             ],
             [
              0.3333333333333333,
              "#9c179e"
             ],
             [
              0.4444444444444444,
              "#bd3786"
             ],
             [
              0.5555555555555556,
              "#d8576b"
             ],
             [
              0.6666666666666666,
              "#ed7953"
             ],
             [
              0.7777777777777778,
              "#fb9f3a"
             ],
             [
              0.8888888888888888,
              "#fdca26"
             ],
             [
              1,
              "#f0f921"
             ]
            ],
            "type": "histogram2d"
           }
          ],
          "histogram2dcontour": [
           {
            "colorbar": {
             "outlinewidth": 0,
             "ticks": ""
            },
            "colorscale": [
             [
              0,
              "#0d0887"
             ],
             [
              0.1111111111111111,
              "#46039f"
             ],
             [
              0.2222222222222222,
              "#7201a8"
             ],
             [
              0.3333333333333333,
              "#9c179e"
             ],
             [
              0.4444444444444444,
              "#bd3786"
             ],
             [
              0.5555555555555556,
              "#d8576b"
             ],
             [
              0.6666666666666666,
              "#ed7953"
             ],
             [
              0.7777777777777778,
              "#fb9f3a"
             ],
             [
              0.8888888888888888,
              "#fdca26"
             ],
             [
              1,
              "#f0f921"
             ]
            ],
            "type": "histogram2dcontour"
           }
          ],
          "mesh3d": [
           {
            "colorbar": {
             "outlinewidth": 0,
             "ticks": ""
            },
            "type": "mesh3d"
           }
          ],
          "parcoords": [
           {
            "line": {
             "colorbar": {
              "outlinewidth": 0,
              "ticks": ""
             }
            },
            "type": "parcoords"
           }
          ],
          "pie": [
           {
            "automargin": true,
            "type": "pie"
           }
          ],
          "scatter": [
           {
            "fillpattern": {
             "fillmode": "overlay",
             "size": 10,
             "solidity": 0.2
            },
            "type": "scatter"
           }
          ],
          "scatter3d": [
           {
            "line": {
             "colorbar": {
              "outlinewidth": 0,
              "ticks": ""
             }
            },
            "marker": {
             "colorbar": {
              "outlinewidth": 0,
              "ticks": ""
             }
            },
            "type": "scatter3d"
           }
          ],
          "scattercarpet": [
           {
            "marker": {
             "colorbar": {
              "outlinewidth": 0,
              "ticks": ""
             }
            },
            "type": "scattercarpet"
           }
          ],
          "scattergeo": [
           {
            "marker": {
             "colorbar": {
              "outlinewidth": 0,
              "ticks": ""
             }
            },
            "type": "scattergeo"
           }
          ],
          "scattergl": [
           {
            "marker": {
             "colorbar": {
              "outlinewidth": 0,
              "ticks": ""
             }
            },
            "type": "scattergl"
           }
          ],
          "scattermap": [
           {
            "marker": {
             "colorbar": {
              "outlinewidth": 0,
              "ticks": ""
             }
            },
            "type": "scattermap"
           }
          ],
          "scattermapbox": [
           {
            "marker": {
             "colorbar": {
              "outlinewidth": 0,
              "ticks": ""
             }
            },
            "type": "scattermapbox"
           }
          ],
          "scatterpolar": [
           {
            "marker": {
             "colorbar": {
              "outlinewidth": 0,
              "ticks": ""
             }
            },
            "type": "scatterpolar"
           }
          ],
          "scatterpolargl": [
           {
            "marker": {
             "colorbar": {
              "outlinewidth": 0,
              "ticks": ""
             }
            },
            "type": "scatterpolargl"
           }
          ],
          "scatterternary": [
           {
            "marker": {
             "colorbar": {
              "outlinewidth": 0,
              "ticks": ""
             }
            },
            "type": "scatterternary"
           }
          ],
          "surface": [
           {
            "colorbar": {
             "outlinewidth": 0,
             "ticks": ""
            },
            "colorscale": [
             [
              0,
              "#0d0887"
             ],
             [
              0.1111111111111111,
              "#46039f"
             ],
             [
              0.2222222222222222,
              "#7201a8"
             ],
             [
              0.3333333333333333,
              "#9c179e"
             ],
             [
              0.4444444444444444,
              "#bd3786"
             ],
             [
              0.5555555555555556,
              "#d8576b"
             ],
             [
              0.6666666666666666,
              "#ed7953"
             ],
             [
              0.7777777777777778,
              "#fb9f3a"
             ],
             [
              0.8888888888888888,
              "#fdca26"
             ],
             [
              1,
              "#f0f921"
             ]
            ],
            "type": "surface"
           }
          ],
          "table": [
           {
            "cells": {
             "fill": {
              "color": "#EBF0F8"
             },
             "line": {
              "color": "white"
             }
            },
            "header": {
             "fill": {
              "color": "#C8D4E3"
             },
             "line": {
              "color": "white"
             }
            },
            "type": "table"
           }
          ]
         },
         "layout": {
          "annotationdefaults": {
           "arrowcolor": "#2a3f5f",
           "arrowhead": 0,
           "arrowwidth": 1
          },
          "autotypenumbers": "strict",
          "coloraxis": {
           "colorbar": {
            "outlinewidth": 0,
            "ticks": ""
           }
          },
          "colorscale": {
           "diverging": [
            [
             0,
             "#8e0152"
            ],
            [
             0.1,
             "#c51b7d"
            ],
            [
             0.2,
             "#de77ae"
            ],
            [
             0.3,
             "#f1b6da"
            ],
            [
             0.4,
             "#fde0ef"
            ],
            [
             0.5,
             "#f7f7f7"
            ],
            [
             0.6,
             "#e6f5d0"
            ],
            [
             0.7,
             "#b8e186"
            ],
            [
             0.8,
             "#7fbc41"
            ],
            [
             0.9,
             "#4d9221"
            ],
            [
             1,
             "#276419"
            ]
           ],
           "sequential": [
            [
             0,
             "#0d0887"
            ],
            [
             0.1111111111111111,
             "#46039f"
            ],
            [
             0.2222222222222222,
             "#7201a8"
            ],
            [
             0.3333333333333333,
             "#9c179e"
            ],
            [
             0.4444444444444444,
             "#bd3786"
            ],
            [
             0.5555555555555556,
             "#d8576b"
            ],
            [
             0.6666666666666666,
             "#ed7953"
            ],
            [
             0.7777777777777778,
             "#fb9f3a"
            ],
            [
             0.8888888888888888,
             "#fdca26"
            ],
            [
             1,
             "#f0f921"
            ]
           ],
           "sequentialminus": [
            [
             0,
             "#0d0887"
            ],
            [
             0.1111111111111111,
             "#46039f"
            ],
            [
             0.2222222222222222,
             "#7201a8"
            ],
            [
             0.3333333333333333,
             "#9c179e"
            ],
            [
             0.4444444444444444,
             "#bd3786"
            ],
            [
             0.5555555555555556,
             "#d8576b"
            ],
            [
             0.6666666666666666,
             "#ed7953"
            ],
            [
             0.7777777777777778,
             "#fb9f3a"
            ],
            [
             0.8888888888888888,
             "#fdca26"
            ],
            [
             1,
             "#f0f921"
            ]
           ]
          },
          "colorway": [
           "#636efa",
           "#EF553B",
           "#00cc96",
           "#ab63fa",
           "#FFA15A",
           "#19d3f3",
           "#FF6692",
           "#B6E880",
           "#FF97FF",
           "#FECB52"
          ],
          "font": {
           "color": "#2a3f5f"
          },
          "geo": {
           "bgcolor": "white",
           "lakecolor": "white",
           "landcolor": "#E5ECF6",
           "showlakes": true,
           "showland": true,
           "subunitcolor": "white"
          },
          "hoverlabel": {
           "align": "left"
          },
          "hovermode": "closest",
          "mapbox": {
           "style": "light"
          },
          "paper_bgcolor": "white",
          "plot_bgcolor": "#E5ECF6",
          "polar": {
           "angularaxis": {
            "gridcolor": "white",
            "linecolor": "white",
            "ticks": ""
           },
           "bgcolor": "#E5ECF6",
           "radialaxis": {
            "gridcolor": "white",
            "linecolor": "white",
            "ticks": ""
           }
          },
          "scene": {
           "xaxis": {
            "backgroundcolor": "#E5ECF6",
            "gridcolor": "white",
            "gridwidth": 2,
            "linecolor": "white",
            "showbackground": true,
            "ticks": "",
            "zerolinecolor": "white"
           },
           "yaxis": {
            "backgroundcolor": "#E5ECF6",
            "gridcolor": "white",
            "gridwidth": 2,
            "linecolor": "white",
            "showbackground": true,
            "ticks": "",
            "zerolinecolor": "white"
           },
           "zaxis": {
            "backgroundcolor": "#E5ECF6",
            "gridcolor": "white",
            "gridwidth": 2,
            "linecolor": "white",
            "showbackground": true,
            "ticks": "",
            "zerolinecolor": "white"
           }
          },
          "shapedefaults": {
           "line": {
            "color": "#2a3f5f"
           }
          },
          "ternary": {
           "aaxis": {
            "gridcolor": "white",
            "linecolor": "white",
            "ticks": ""
           },
           "baxis": {
            "gridcolor": "white",
            "linecolor": "white",
            "ticks": ""
           },
           "bgcolor": "#E5ECF6",
           "caxis": {
            "gridcolor": "white",
            "linecolor": "white",
            "ticks": ""
           }
          },
          "title": {
           "x": 0.05
          },
          "xaxis": {
           "automargin": true,
           "gridcolor": "white",
           "linecolor": "white",
           "ticks": "",
           "title": {
            "standoff": 15
           },
           "zerolinecolor": "white",
           "zerolinewidth": 2
          },
          "yaxis": {
           "automargin": true,
           "gridcolor": "white",
           "linecolor": "white",
           "ticks": "",
           "title": {
            "standoff": 15
           },
           "zerolinecolor": "white",
           "zerolinewidth": 2
          }
         }
        },
        "width": 1000
       }
      }
     },
     "metadata": {},
     "output_type": "display_data"
    }
   ],
   "source": [
    "#########################################\n",
    "# Visualización 3D del dataset (usando f1, f2 y f3)\n",
    "#########################################\n",
    "fig = go.Figure()\n",
    "fig.add_trace(go.Scatter3d(\n",
    "    x=df['f1'],\n",
    "    y=df['f2'],\n",
    "    z=df['f3'],\n",
    "    mode='markers',\n",
    "    marker=dict(color='blue')\n",
    "))\n",
    "fig.update_layout(\n",
    "    scene=dict(\n",
    "        xaxis_title='Feature 1',\n",
    "        yaxis_title='Feature 2',\n",
    "        zaxis_title='Feature 3'\n",
    "    ),\n",
    "    scene_camera=dict(eye=dict(x=1.87, y=0.88, z=-0.64)),\n",
    "    width=1000,\n",
    "    height=600\n",
    ")\n",
    "# Descomenta la siguiente línea si deseas visualizar la gráfica.\n",
    "fig.show()"
   ]
  },
  {
   "cell_type": "code",
   "execution_count": 14,
   "metadata": {},
   "outputs": [
    {
     "name": "stdout",
     "output_type": "stream",
     "text": [
      "Input shape:  (64, 20)\n",
      "Target variable shape:  (64,)\n"
     ]
    }
   ],
   "source": [
    "print('Input shape: ', X.shape)\n",
    "print('Target variable shape: ', y.shape)"
   ]
  },
  {
   "cell_type": "markdown",
   "metadata": {},
   "source": [
    "## 4. Split into training and test data"
   ]
  },
  {
   "cell_type": "code",
   "execution_count": 15,
   "metadata": {},
   "outputs": [],
   "source": [
    "#########################################\n",
    "# División en entrenamiento y prueba\n",
    "#########################################\n",
    "X_train, X_test, y_train, y_test = train_test_split(X, y, test_size=0.2, random_state=21)"
   ]
  },
  {
   "cell_type": "code",
   "execution_count": 16,
   "metadata": {},
   "outputs": [
    {
     "data": {
      "text/plain": [
       "array([2, 2, 0, 2, 3, 3, 0, 0, 0, 1, 3, 0, 1, 0, 0, 1, 1, 3, 1, 2, 1, 0,\n",
       "       0, 2, 3, 0, 0, 1, 0, 2, 1, 2, 1, 1, 3, 1, 3, 1, 2, 2, 3, 0, 3, 0,\n",
       "       1, 3, 3, 2, 3, 3, 2])"
      ]
     },
     "execution_count": 16,
     "metadata": {},
     "output_type": "execute_result"
    }
   ],
   "source": [
    "y_train"
   ]
  },
  {
   "cell_type": "code",
   "execution_count": 11,
   "metadata": {},
   "outputs": [
    {
     "data": {
      "text/plain": [
       "array([1, 0, 0, 3, 3, 1, 0, 0, 2, 0, 0, 0, 0, 0, 4, 0, 0, 4, 0, 3, 0, 0,\n",
       "       0, 4, 3, 4, 1, 3, 0, 3, 0])"
      ]
     },
     "execution_count": 11,
     "metadata": {},
     "output_type": "execute_result"
    }
   ],
   "source": [
    "y_test"
   ]
  },
  {
   "cell_type": "markdown",
   "metadata": {},
   "source": [
    "## 5. Create the classification model"
   ]
  },
  {
   "cell_type": "code",
   "execution_count": 79,
   "metadata": {},
   "outputs": [],
   "source": [
    "#########################################\n",
    "# Creación y entrenamiento del modelo SVM\n",
    "#########################################\n",
    "model = SVC(C = 241.0, gamma=41.0, kernel='rbf', decision_function_shape=\"ovr\", probability = True)"
   ]
  },
  {
   "cell_type": "markdown",
   "metadata": {},
   "source": [
    "## 6. Train the model"
   ]
  },
  {
   "cell_type": "code",
   "execution_count": 80,
   "metadata": {},
   "outputs": [
    {
     "data": {
      "text/html": [
       "<style>#sk-container-id-10 {\n",
       "  /* Definition of color scheme common for light and dark mode */\n",
       "  --sklearn-color-text: #000;\n",
       "  --sklearn-color-text-muted: #666;\n",
       "  --sklearn-color-line: gray;\n",
       "  /* Definition of color scheme for unfitted estimators */\n",
       "  --sklearn-color-unfitted-level-0: #fff5e6;\n",
       "  --sklearn-color-unfitted-level-1: #f6e4d2;\n",
       "  --sklearn-color-unfitted-level-2: #ffe0b3;\n",
       "  --sklearn-color-unfitted-level-3: chocolate;\n",
       "  /* Definition of color scheme for fitted estimators */\n",
       "  --sklearn-color-fitted-level-0: #f0f8ff;\n",
       "  --sklearn-color-fitted-level-1: #d4ebff;\n",
       "  --sklearn-color-fitted-level-2: #b3dbfd;\n",
       "  --sklearn-color-fitted-level-3: cornflowerblue;\n",
       "\n",
       "  /* Specific color for light theme */\n",
       "  --sklearn-color-text-on-default-background: var(--sg-text-color, var(--theme-code-foreground, var(--jp-content-font-color1, black)));\n",
       "  --sklearn-color-background: var(--sg-background-color, var(--theme-background, var(--jp-layout-color0, white)));\n",
       "  --sklearn-color-border-box: var(--sg-text-color, var(--theme-code-foreground, var(--jp-content-font-color1, black)));\n",
       "  --sklearn-color-icon: #696969;\n",
       "\n",
       "  @media (prefers-color-scheme: dark) {\n",
       "    /* Redefinition of color scheme for dark theme */\n",
       "    --sklearn-color-text-on-default-background: var(--sg-text-color, var(--theme-code-foreground, var(--jp-content-font-color1, white)));\n",
       "    --sklearn-color-background: var(--sg-background-color, var(--theme-background, var(--jp-layout-color0, #111)));\n",
       "    --sklearn-color-border-box: var(--sg-text-color, var(--theme-code-foreground, var(--jp-content-font-color1, white)));\n",
       "    --sklearn-color-icon: #878787;\n",
       "  }\n",
       "}\n",
       "\n",
       "#sk-container-id-10 {\n",
       "  color: var(--sklearn-color-text);\n",
       "}\n",
       "\n",
       "#sk-container-id-10 pre {\n",
       "  padding: 0;\n",
       "}\n",
       "\n",
       "#sk-container-id-10 input.sk-hidden--visually {\n",
       "  border: 0;\n",
       "  clip: rect(1px 1px 1px 1px);\n",
       "  clip: rect(1px, 1px, 1px, 1px);\n",
       "  height: 1px;\n",
       "  margin: -1px;\n",
       "  overflow: hidden;\n",
       "  padding: 0;\n",
       "  position: absolute;\n",
       "  width: 1px;\n",
       "}\n",
       "\n",
       "#sk-container-id-10 div.sk-dashed-wrapped {\n",
       "  border: 1px dashed var(--sklearn-color-line);\n",
       "  margin: 0 0.4em 0.5em 0.4em;\n",
       "  box-sizing: border-box;\n",
       "  padding-bottom: 0.4em;\n",
       "  background-color: var(--sklearn-color-background);\n",
       "}\n",
       "\n",
       "#sk-container-id-10 div.sk-container {\n",
       "  /* jupyter's `normalize.less` sets `[hidden] { display: none; }`\n",
       "     but bootstrap.min.css set `[hidden] { display: none !important; }`\n",
       "     so we also need the `!important` here to be able to override the\n",
       "     default hidden behavior on the sphinx rendered scikit-learn.org.\n",
       "     See: https://github.com/scikit-learn/scikit-learn/issues/21755 */\n",
       "  display: inline-block !important;\n",
       "  position: relative;\n",
       "}\n",
       "\n",
       "#sk-container-id-10 div.sk-text-repr-fallback {\n",
       "  display: none;\n",
       "}\n",
       "\n",
       "div.sk-parallel-item,\n",
       "div.sk-serial,\n",
       "div.sk-item {\n",
       "  /* draw centered vertical line to link estimators */\n",
       "  background-image: linear-gradient(var(--sklearn-color-text-on-default-background), var(--sklearn-color-text-on-default-background));\n",
       "  background-size: 2px 100%;\n",
       "  background-repeat: no-repeat;\n",
       "  background-position: center center;\n",
       "}\n",
       "\n",
       "/* Parallel-specific style estimator block */\n",
       "\n",
       "#sk-container-id-10 div.sk-parallel-item::after {\n",
       "  content: \"\";\n",
       "  width: 100%;\n",
       "  border-bottom: 2px solid var(--sklearn-color-text-on-default-background);\n",
       "  flex-grow: 1;\n",
       "}\n",
       "\n",
       "#sk-container-id-10 div.sk-parallel {\n",
       "  display: flex;\n",
       "  align-items: stretch;\n",
       "  justify-content: center;\n",
       "  background-color: var(--sklearn-color-background);\n",
       "  position: relative;\n",
       "}\n",
       "\n",
       "#sk-container-id-10 div.sk-parallel-item {\n",
       "  display: flex;\n",
       "  flex-direction: column;\n",
       "}\n",
       "\n",
       "#sk-container-id-10 div.sk-parallel-item:first-child::after {\n",
       "  align-self: flex-end;\n",
       "  width: 50%;\n",
       "}\n",
       "\n",
       "#sk-container-id-10 div.sk-parallel-item:last-child::after {\n",
       "  align-self: flex-start;\n",
       "  width: 50%;\n",
       "}\n",
       "\n",
       "#sk-container-id-10 div.sk-parallel-item:only-child::after {\n",
       "  width: 0;\n",
       "}\n",
       "\n",
       "/* Serial-specific style estimator block */\n",
       "\n",
       "#sk-container-id-10 div.sk-serial {\n",
       "  display: flex;\n",
       "  flex-direction: column;\n",
       "  align-items: center;\n",
       "  background-color: var(--sklearn-color-background);\n",
       "  padding-right: 1em;\n",
       "  padding-left: 1em;\n",
       "}\n",
       "\n",
       "\n",
       "/* Toggleable style: style used for estimator/Pipeline/ColumnTransformer box that is\n",
       "clickable and can be expanded/collapsed.\n",
       "- Pipeline and ColumnTransformer use this feature and define the default style\n",
       "- Estimators will overwrite some part of the style using the `sk-estimator` class\n",
       "*/\n",
       "\n",
       "/* Pipeline and ColumnTransformer style (default) */\n",
       "\n",
       "#sk-container-id-10 div.sk-toggleable {\n",
       "  /* Default theme specific background. It is overwritten whether we have a\n",
       "  specific estimator or a Pipeline/ColumnTransformer */\n",
       "  background-color: var(--sklearn-color-background);\n",
       "}\n",
       "\n",
       "/* Toggleable label */\n",
       "#sk-container-id-10 label.sk-toggleable__label {\n",
       "  cursor: pointer;\n",
       "  display: flex;\n",
       "  width: 100%;\n",
       "  margin-bottom: 0;\n",
       "  padding: 0.5em;\n",
       "  box-sizing: border-box;\n",
       "  text-align: center;\n",
       "  align-items: start;\n",
       "  justify-content: space-between;\n",
       "  gap: 0.5em;\n",
       "}\n",
       "\n",
       "#sk-container-id-10 label.sk-toggleable__label .caption {\n",
       "  font-size: 0.6rem;\n",
       "  font-weight: lighter;\n",
       "  color: var(--sklearn-color-text-muted);\n",
       "}\n",
       "\n",
       "#sk-container-id-10 label.sk-toggleable__label-arrow:before {\n",
       "  /* Arrow on the left of the label */\n",
       "  content: \"▸\";\n",
       "  float: left;\n",
       "  margin-right: 0.25em;\n",
       "  color: var(--sklearn-color-icon);\n",
       "}\n",
       "\n",
       "#sk-container-id-10 label.sk-toggleable__label-arrow:hover:before {\n",
       "  color: var(--sklearn-color-text);\n",
       "}\n",
       "\n",
       "/* Toggleable content - dropdown */\n",
       "\n",
       "#sk-container-id-10 div.sk-toggleable__content {\n",
       "  max-height: 0;\n",
       "  max-width: 0;\n",
       "  overflow: hidden;\n",
       "  text-align: left;\n",
       "  /* unfitted */\n",
       "  background-color: var(--sklearn-color-unfitted-level-0);\n",
       "}\n",
       "\n",
       "#sk-container-id-10 div.sk-toggleable__content.fitted {\n",
       "  /* fitted */\n",
       "  background-color: var(--sklearn-color-fitted-level-0);\n",
       "}\n",
       "\n",
       "#sk-container-id-10 div.sk-toggleable__content pre {\n",
       "  margin: 0.2em;\n",
       "  border-radius: 0.25em;\n",
       "  color: var(--sklearn-color-text);\n",
       "  /* unfitted */\n",
       "  background-color: var(--sklearn-color-unfitted-level-0);\n",
       "}\n",
       "\n",
       "#sk-container-id-10 div.sk-toggleable__content.fitted pre {\n",
       "  /* unfitted */\n",
       "  background-color: var(--sklearn-color-fitted-level-0);\n",
       "}\n",
       "\n",
       "#sk-container-id-10 input.sk-toggleable__control:checked~div.sk-toggleable__content {\n",
       "  /* Expand drop-down */\n",
       "  max-height: 200px;\n",
       "  max-width: 100%;\n",
       "  overflow: auto;\n",
       "}\n",
       "\n",
       "#sk-container-id-10 input.sk-toggleable__control:checked~label.sk-toggleable__label-arrow:before {\n",
       "  content: \"▾\";\n",
       "}\n",
       "\n",
       "/* Pipeline/ColumnTransformer-specific style */\n",
       "\n",
       "#sk-container-id-10 div.sk-label input.sk-toggleable__control:checked~label.sk-toggleable__label {\n",
       "  color: var(--sklearn-color-text);\n",
       "  background-color: var(--sklearn-color-unfitted-level-2);\n",
       "}\n",
       "\n",
       "#sk-container-id-10 div.sk-label.fitted input.sk-toggleable__control:checked~label.sk-toggleable__label {\n",
       "  background-color: var(--sklearn-color-fitted-level-2);\n",
       "}\n",
       "\n",
       "/* Estimator-specific style */\n",
       "\n",
       "/* Colorize estimator box */\n",
       "#sk-container-id-10 div.sk-estimator input.sk-toggleable__control:checked~label.sk-toggleable__label {\n",
       "  /* unfitted */\n",
       "  background-color: var(--sklearn-color-unfitted-level-2);\n",
       "}\n",
       "\n",
       "#sk-container-id-10 div.sk-estimator.fitted input.sk-toggleable__control:checked~label.sk-toggleable__label {\n",
       "  /* fitted */\n",
       "  background-color: var(--sklearn-color-fitted-level-2);\n",
       "}\n",
       "\n",
       "#sk-container-id-10 div.sk-label label.sk-toggleable__label,\n",
       "#sk-container-id-10 div.sk-label label {\n",
       "  /* The background is the default theme color */\n",
       "  color: var(--sklearn-color-text-on-default-background);\n",
       "}\n",
       "\n",
       "/* On hover, darken the color of the background */\n",
       "#sk-container-id-10 div.sk-label:hover label.sk-toggleable__label {\n",
       "  color: var(--sklearn-color-text);\n",
       "  background-color: var(--sklearn-color-unfitted-level-2);\n",
       "}\n",
       "\n",
       "/* Label box, darken color on hover, fitted */\n",
       "#sk-container-id-10 div.sk-label.fitted:hover label.sk-toggleable__label.fitted {\n",
       "  color: var(--sklearn-color-text);\n",
       "  background-color: var(--sklearn-color-fitted-level-2);\n",
       "}\n",
       "\n",
       "/* Estimator label */\n",
       "\n",
       "#sk-container-id-10 div.sk-label label {\n",
       "  font-family: monospace;\n",
       "  font-weight: bold;\n",
       "  display: inline-block;\n",
       "  line-height: 1.2em;\n",
       "}\n",
       "\n",
       "#sk-container-id-10 div.sk-label-container {\n",
       "  text-align: center;\n",
       "}\n",
       "\n",
       "/* Estimator-specific */\n",
       "#sk-container-id-10 div.sk-estimator {\n",
       "  font-family: monospace;\n",
       "  border: 1px dotted var(--sklearn-color-border-box);\n",
       "  border-radius: 0.25em;\n",
       "  box-sizing: border-box;\n",
       "  margin-bottom: 0.5em;\n",
       "  /* unfitted */\n",
       "  background-color: var(--sklearn-color-unfitted-level-0);\n",
       "}\n",
       "\n",
       "#sk-container-id-10 div.sk-estimator.fitted {\n",
       "  /* fitted */\n",
       "  background-color: var(--sklearn-color-fitted-level-0);\n",
       "}\n",
       "\n",
       "/* on hover */\n",
       "#sk-container-id-10 div.sk-estimator:hover {\n",
       "  /* unfitted */\n",
       "  background-color: var(--sklearn-color-unfitted-level-2);\n",
       "}\n",
       "\n",
       "#sk-container-id-10 div.sk-estimator.fitted:hover {\n",
       "  /* fitted */\n",
       "  background-color: var(--sklearn-color-fitted-level-2);\n",
       "}\n",
       "\n",
       "/* Specification for estimator info (e.g. \"i\" and \"?\") */\n",
       "\n",
       "/* Common style for \"i\" and \"?\" */\n",
       "\n",
       ".sk-estimator-doc-link,\n",
       "a:link.sk-estimator-doc-link,\n",
       "a:visited.sk-estimator-doc-link {\n",
       "  float: right;\n",
       "  font-size: smaller;\n",
       "  line-height: 1em;\n",
       "  font-family: monospace;\n",
       "  background-color: var(--sklearn-color-background);\n",
       "  border-radius: 1em;\n",
       "  height: 1em;\n",
       "  width: 1em;\n",
       "  text-decoration: none !important;\n",
       "  margin-left: 0.5em;\n",
       "  text-align: center;\n",
       "  /* unfitted */\n",
       "  border: var(--sklearn-color-unfitted-level-1) 1pt solid;\n",
       "  color: var(--sklearn-color-unfitted-level-1);\n",
       "}\n",
       "\n",
       ".sk-estimator-doc-link.fitted,\n",
       "a:link.sk-estimator-doc-link.fitted,\n",
       "a:visited.sk-estimator-doc-link.fitted {\n",
       "  /* fitted */\n",
       "  border: var(--sklearn-color-fitted-level-1) 1pt solid;\n",
       "  color: var(--sklearn-color-fitted-level-1);\n",
       "}\n",
       "\n",
       "/* On hover */\n",
       "div.sk-estimator:hover .sk-estimator-doc-link:hover,\n",
       ".sk-estimator-doc-link:hover,\n",
       "div.sk-label-container:hover .sk-estimator-doc-link:hover,\n",
       ".sk-estimator-doc-link:hover {\n",
       "  /* unfitted */\n",
       "  background-color: var(--sklearn-color-unfitted-level-3);\n",
       "  color: var(--sklearn-color-background);\n",
       "  text-decoration: none;\n",
       "}\n",
       "\n",
       "div.sk-estimator.fitted:hover .sk-estimator-doc-link.fitted:hover,\n",
       ".sk-estimator-doc-link.fitted:hover,\n",
       "div.sk-label-container:hover .sk-estimator-doc-link.fitted:hover,\n",
       ".sk-estimator-doc-link.fitted:hover {\n",
       "  /* fitted */\n",
       "  background-color: var(--sklearn-color-fitted-level-3);\n",
       "  color: var(--sklearn-color-background);\n",
       "  text-decoration: none;\n",
       "}\n",
       "\n",
       "/* Span, style for the box shown on hovering the info icon */\n",
       ".sk-estimator-doc-link span {\n",
       "  display: none;\n",
       "  z-index: 9999;\n",
       "  position: relative;\n",
       "  font-weight: normal;\n",
       "  right: .2ex;\n",
       "  padding: .5ex;\n",
       "  margin: .5ex;\n",
       "  width: min-content;\n",
       "  min-width: 20ex;\n",
       "  max-width: 50ex;\n",
       "  color: var(--sklearn-color-text);\n",
       "  box-shadow: 2pt 2pt 4pt #999;\n",
       "  /* unfitted */\n",
       "  background: var(--sklearn-color-unfitted-level-0);\n",
       "  border: .5pt solid var(--sklearn-color-unfitted-level-3);\n",
       "}\n",
       "\n",
       ".sk-estimator-doc-link.fitted span {\n",
       "  /* fitted */\n",
       "  background: var(--sklearn-color-fitted-level-0);\n",
       "  border: var(--sklearn-color-fitted-level-3);\n",
       "}\n",
       "\n",
       ".sk-estimator-doc-link:hover span {\n",
       "  display: block;\n",
       "}\n",
       "\n",
       "/* \"?\"-specific style due to the `<a>` HTML tag */\n",
       "\n",
       "#sk-container-id-10 a.estimator_doc_link {\n",
       "  float: right;\n",
       "  font-size: 1rem;\n",
       "  line-height: 1em;\n",
       "  font-family: monospace;\n",
       "  background-color: var(--sklearn-color-background);\n",
       "  border-radius: 1rem;\n",
       "  height: 1rem;\n",
       "  width: 1rem;\n",
       "  text-decoration: none;\n",
       "  /* unfitted */\n",
       "  color: var(--sklearn-color-unfitted-level-1);\n",
       "  border: var(--sklearn-color-unfitted-level-1) 1pt solid;\n",
       "}\n",
       "\n",
       "#sk-container-id-10 a.estimator_doc_link.fitted {\n",
       "  /* fitted */\n",
       "  border: var(--sklearn-color-fitted-level-1) 1pt solid;\n",
       "  color: var(--sklearn-color-fitted-level-1);\n",
       "}\n",
       "\n",
       "/* On hover */\n",
       "#sk-container-id-10 a.estimator_doc_link:hover {\n",
       "  /* unfitted */\n",
       "  background-color: var(--sklearn-color-unfitted-level-3);\n",
       "  color: var(--sklearn-color-background);\n",
       "  text-decoration: none;\n",
       "}\n",
       "\n",
       "#sk-container-id-10 a.estimator_doc_link.fitted:hover {\n",
       "  /* fitted */\n",
       "  background-color: var(--sklearn-color-fitted-level-3);\n",
       "}\n",
       "</style><div id=\"sk-container-id-10\" class=\"sk-top-container\"><div class=\"sk-text-repr-fallback\"><pre>SVC(C=241.0, gamma=41.0, probability=True)</pre><b>In a Jupyter environment, please rerun this cell to show the HTML representation or trust the notebook. <br />On GitHub, the HTML representation is unable to render, please try loading this page with nbviewer.org.</b></div><div class=\"sk-container\" hidden><div class=\"sk-item\"><div class=\"sk-estimator fitted sk-toggleable\"><input class=\"sk-toggleable__control sk-hidden--visually\" id=\"sk-estimator-id-20\" type=\"checkbox\" checked><label for=\"sk-estimator-id-20\" class=\"sk-toggleable__label fitted sk-toggleable__label-arrow\"><div><div>SVC</div></div><div><a class=\"sk-estimator-doc-link fitted\" rel=\"noreferrer\" target=\"_blank\" href=\"https://scikit-learn.org/1.6/modules/generated/sklearn.svm.SVC.html\">?<span>Documentation for SVC</span></a><span class=\"sk-estimator-doc-link fitted\">i<span>Fitted</span></span></div></label><div class=\"sk-toggleable__content fitted\"><pre>SVC(C=241.0, gamma=41.0, probability=True)</pre></div> </div></div></div></div>"
      ],
      "text/plain": [
       "SVC(C=241.0, gamma=41.0, probability=True)"
      ]
     },
     "execution_count": 80,
     "metadata": {},
     "output_type": "execute_result"
    }
   ],
   "source": [
    "model.fit(X_train, y_train)"
   ]
  },
  {
   "cell_type": "markdown",
   "metadata": {},
   "source": [
    "## 6. Evaluating the model with the training data"
   ]
  },
  {
   "cell_type": "code",
   "execution_count": 81,
   "metadata": {},
   "outputs": [],
   "source": [
    "# Evaluación con datos de entrenamiento\n",
    "training_predict = model.predict(X_train)"
   ]
  },
  {
   "cell_type": "code",
   "execution_count": 82,
   "metadata": {},
   "outputs": [
    {
     "name": "stdout",
     "output_type": "stream",
     "text": [
      "Reporte de clasificación (entrenamiento):\n",
      "              precision    recall  f1-score   support\n",
      "\n",
      "           0      1.000     1.000     1.000        14\n",
      "           1      1.000     1.000     1.000        13\n",
      "           2      1.000     1.000     1.000        11\n",
      "           3      1.000     1.000     1.000        13\n",
      "\n",
      "    accuracy                          1.000        51\n",
      "   macro avg      1.000     1.000     1.000        51\n",
      "weighted avg      1.000     1.000     1.000        51\n",
      "\n"
     ]
    }
   ],
   "source": [
    "print(\"Reporte de clasificación (entrenamiento):\")\n",
    "print(metrics.classification_report(y_train, training_predict, digits = 3))"
   ]
  },
  {
   "cell_type": "code",
   "execution_count": 83,
   "metadata": {},
   "outputs": [
    {
     "name": "stdout",
     "output_type": "stream",
     "text": [
      "Matriz de confusión (entrenamiento):\n",
      "[[14  0  0  0]\n",
      " [ 0 13  0  0]\n",
      " [ 0  0 11  0]\n",
      " [ 0  0  0 13]]\n"
     ]
    }
   ],
   "source": [
    "print(\"Matriz de confusión (entrenamiento):\")\n",
    "print(metrics.confusion_matrix(y_train, training_predict))"
   ]
  },
  {
   "cell_type": "code",
   "execution_count": 84,
   "metadata": {},
   "outputs": [
    {
     "name": "stdout",
     "output_type": "stream",
     "text": [
      "Model accuracy: 100.0%\n"
     ]
    }
   ],
   "source": [
    "print(f'Model accuracy: {round(metrics.accuracy_score(y_train, training_predict)*100,2)}%')"
   ]
  },
  {
   "cell_type": "markdown",
   "metadata": {},
   "source": [
    "## 8. Evaluating the model with test data"
   ]
  },
  {
   "cell_type": "code",
   "execution_count": 85,
   "metadata": {},
   "outputs": [],
   "source": [
    "# Evaluación con datos de entrenamiento\n",
    "test_predict = model.predict(X_test)"
   ]
  },
  {
   "cell_type": "code",
   "execution_count": 86,
   "metadata": {},
   "outputs": [
    {
     "name": "stdout",
     "output_type": "stream",
     "text": [
      "Reporte de clasificación de prueba:\n",
      "              precision    recall  f1-score   support\n",
      "\n",
      "           0      0.111     0.500     0.182         2\n",
      "           1      0.000     0.000     0.000         3\n",
      "           2      0.500     0.200     0.286         5\n",
      "           3      0.000     0.000     0.000         3\n",
      "\n",
      "    accuracy                          0.154        13\n",
      "   macro avg      0.153     0.175     0.117        13\n",
      "weighted avg      0.209     0.154     0.138        13\n",
      "\n"
     ]
    }
   ],
   "source": [
    "print(\"Reporte de clasificación de prueba:\")\n",
    "print(metrics.classification_report(y_test, test_predict, digits = 3))"
   ]
  },
  {
   "cell_type": "code",
   "execution_count": 87,
   "metadata": {},
   "outputs": [
    {
     "name": "stdout",
     "output_type": "stream",
     "text": [
      "Matriz de confusión (prueba):\n",
      "[[1 0 0 1]\n",
      " [3 0 0 0]\n",
      " [3 1 1 0]\n",
      " [2 0 1 0]]\n"
     ]
    }
   ],
   "source": [
    "print(\"Matriz de confusión (prueba):\")\n",
    "print(metrics.confusion_matrix(y_test, test_predict))"
   ]
  },
  {
   "cell_type": "code",
   "execution_count": 88,
   "metadata": {},
   "outputs": [
    {
     "name": "stdout",
     "output_type": "stream",
     "text": [
      "Model accuracy: 15.38%\n"
     ]
    }
   ],
   "source": [
    "print(f'Model accuracy: {round(metrics.accuracy_score(y_test, test_predict)*100,2)}%')"
   ]
  },
  {
   "cell_type": "markdown",
   "metadata": {},
   "source": [
    "## 10. Obtaining the model to be implemented in the microcontroller"
   ]
  },
  {
   "cell_type": "code",
   "execution_count": 89,
   "metadata": {},
   "outputs": [
    {
     "name": "stdout",
     "output_type": "stream",
     "text": [
      "#pragma once\n",
      "#include <cstdarg>\n",
      "namespace Eloquent {\n",
      "    namespace ML {\n",
      "        namespace Port {\n",
      "            class SVM {\n",
      "                public:\n",
      "                    /**\n",
      "                    * Predict class for features vector\n",
      "                    */\n",
      "                    int predict(float *x) {\n",
      "                        float kernels[51] = { 0 };\n",
      "                        float decisions[6] = { 0 };\n",
      "                        int votes[4] = { 0 };\n",
      "                        kernels[0] = compute_kernel(x,   0.022185597254  , -0.029982186394  , 0.12852836959  , 0.003290332124  , 0.012263102866  , -0.045011168983  , -0.025530204804  , -0.037492306951  , -0.145909315972  , -0.075787871812  , -0.023022286756  , -0.066225804967  , 0.08680523742  , 0.105308564976  , 0.125590113648  , 0.121038775278  , 0.000590453458  , -0.025688590718  , 0.239773052867  , 0.007801903354 );\n",
      "                        kernels[1] = compute_kernel(x,   -0.380762995027  , -0.262984984361  , -0.086058125724  , -0.235368426977  , -0.226030007759  , -0.271784971683  , -0.295708120172  , -0.272883524961  , -0.396229385462  , -0.321116722105  , -0.30151336256  , -0.314795714196  , -0.114034919908  , -0.147906314444  , -0.139220048427  , -0.135532590405  , -0.373902661799  , -0.262236356334  , 0.027623623581  , -0.231960553914 );\n",
      "                        kernels[2] = compute_kernel(x,   1.321864655973  , 1.307653022514  , 1.165696429744  , 1.280816630879  , 1.398578495098  , 1.307096557312  , 1.316782295332  , 1.31072479528  , 1.429195331375  , 1.346281466018  , 1.337535436012  , 1.344278321026  , 1.242291248821  , 1.200043368648  , 1.192619296136  , 1.19074400759  , 1.32524717963  , 1.307402105023  , 1.041226452587  , 1.279202823515 );\n",
      "                        kernels[3] = compute_kernel(x,   -1.811529774082  , -1.823141145802  , -2.33921632544  , -1.916508803609  , -2.192058318413  , -1.886991464135  , -1.805273615537  , -1.874655891954  , -1.808022724067  , -1.771854068181  , -1.784754378634  , -1.778086869767  , -2.119014930796  , -2.170042523568  , -2.133084798206  , -2.15849912754  , -1.814623689614  , -1.832940166939  , -2.612458163534  , -1.925695343762 );\n",
      "                        kernels[4] = compute_kernel(x,   1.526072123286  , 1.583899299534  , 1.344518509151  , 1.551062578705  , 1.76589995816  , 1.524852185873  , 1.595537287386  , 1.550193656447  , 1.882008121066  , 1.632435824914  , 1.636882671682  , 1.643776561606  , 1.618210770282  , 1.427210908789  , 1.371755582267  , 1.394027474268  , 1.531395897469  , 1.583309336268  , 1.159087246607  , 1.545361147633 );\n",
      "                        kernels[5] = compute_kernel(x,   0.86394240697  , 0.875122655976  , 0.808052271057  , 0.863163802452  , 0.707861946818  , 0.891494126645  , 0.849331616375  , 0.877382537233  , 0.786907026501  , 0.870468933053  , 0.830853434658  , 0.860025476927  , 0.809642682757  , 0.841201146687  , 0.849923792276  , 0.845359476862  , 0.869195236278  , 0.871745414834  , 0.758360546789  , 0.863467920556 );\n",
      "                        kernels[6] = compute_kernel(x,   1.490562660148  , 1.556656737784  , 1.344518509151  , 1.519475389979  , 1.591833779487  , 1.503451653137  , 1.586960210699  , 1.530176135543  , 1.68445231501  , 1.609515148821  , 1.623387509417  , 1.618993918613  , 1.421602401338  , 1.40218095194  , 1.36396704808  , 1.378238467133  , 1.498126778037  , 1.557980381252  , 1.111942929016  , 1.516765625201 );\n",
      "                        kernels[7] = compute_kernel(x,   0.68291023742  , 0.528416450528  , 0.486172528277  , 0.522724101975  , 0.377228101219  , 0.493952244912  , 0.480517319213  , 0.482963236503  , 0.369053367874  , 0.463198441933  , 0.477525549934  , 0.457927094351  , 0.51916955011  , 0.56174846082  , 0.530593890948  , 0.545368341599  , 0.682083930905  , 0.521654031715  , 0.475494641074  , 0.520321651437 );\n",
      "                        kernels[8] = compute_kernel(x,   1.313886510552  , 1.222443290524  , 1.094167598058  , 1.210622878178  , 1.350047723468  , 1.227214478616  , 1.23958860524  , 1.234732354821  , 1.39757960669  , 1.249320175304  , 1.247976631897  , 1.254812979819  , 1.20018964251  , 1.131308630719  , 1.138099556884  , 1.131535230903  , 1.315802946349  , 1.220890634672  , 0.994082134912  , 1.20661418966 );\n",
      "                        kernels[9] = compute_kernel(x,   0.362472523762  , 0.308087443954  , 0.45040811237  , 0.33671065735  , 0.325395974878  , 0.334594128823  , 0.317552862327  , 0.329124881422  , 0.255814453891  , 0.301278883547  , 0.308222605172  , 0.298946439546  , 0.331257239038  , 0.40066934778  , 0.421554412443  , 0.413135406973  , 0.338603035842  , 0.307960162193  , 0.546211117503  , 0.337750239033 );\n",
      "                        kernels[10] = compute_kernel(x,   0.809710895375  , 0.801274989456  , 0.700759023464  , 0.785950674502  , 0.545264708966  , 0.794196223905  , 0.78071500294  , 0.784708829356  , 0.60258915451  , 0.769526017341  , 0.760923957472  , 0.763125342821  , 0.694599266127  , 0.768039018945  , 0.779826984677  , 0.774308944837  , 0.813356648979  , 0.795649239661  , 0.664071911523  , 0.782080664423 );\n",
      "                        kernels[11] = compute_kernel(x,   1.155998944731  , 1.161639928441  , 1.058403182151  , 1.150958188403  , 1.109340601736  , 1.180526369484  , 1.18383760682  , 1.181722993911  , 1.28203591872  , 1.196107714505  , 1.170686157113  , 1.195830289493  , 1.146469316358  , 1.083878396242  , 1.099156886005  , 1.088115461322  , 1.149406022737  , 1.162056383225  , 0.970509976075  , 1.149423144812 );\n",
      "                        kernels[12] = compute_kernel(x,   0.918973440015  , 0.959852686014  , 0.879581102871  , 0.943886618027  , 0.7671293535  , 0.981128541583  , 0.935102383154  , 0.964495822642  , 0.860013845106  , 0.96853905319  , 0.920412238773  , 0.954447346733  , 0.867666082961  , 0.911838224808  , 0.920020599874  , 0.914436383002  , 0.927015303661  , 0.957252004101  , 0.805504864464  , 0.940455865542 );\n",
      "                        kernels[13] = compute_kernel(x,   0.237473845239  , 0.227803231726  , 0.378879280683  , 0.252478154149  , 0.231409384122  , 0.231155456007  , 0.244647710563  , 0.233114920059  , 0.066621974536  , 0.196010623062  , 0.244427292652  , 0.200187607217  , 0.217015995844  , 0.320948783287  , 0.343669070658  , 0.340111249063  , 0.218080225657  , 0.229891254921  , 0.451922482237  , 0.254163327319 );\n",
      "                        kernels[14] = compute_kernel(x,   -0.980333838489  , -0.990094750003  , -0.908639690692  , -0.98644158063  , -0.844516157287  , -0.997593739468  , -1.007605484465  , -1.000557479238  , -0.93344775423  , -1.008756824945  , -1.014303296671  , -1.009453197313  , -0.943629999309  , -0.956119137671  , -0.957016137213  , -0.960508212372  , -0.970815429212  , -0.984748542598  , -0.868118411321  , -0.982043103698 );\n",
      "                        kernels[15] = compute_kernel(x,   0.756695110538  , 0.687680808652  , 0.664994607557  , 0.684169733126  , 0.462430409093  , 0.689883342036  , 0.677790082802  , 0.68091427653  , 0.486480749793  , 0.662929103371  , 0.662777322826  , 0.656064325087  , 0.616496385248  , 0.700213851527  , 0.694153108705  , 0.697337535129  , 0.758264297364  , 0.682781800452  , 0.640499752769  , 0.683096163718 );\n",
      "                        kernels[16] = compute_kernel(x,   0.464006184431  , 0.434102896531  , 0.486172528277  , 0.445510974025  , 0.359574256708  , 0.434757531647  , 0.420477782465  , 0.426617622107  , 0.30547781241  , 0.4006847954  , 0.418637569148  , 0.398572664381  , 0.399768323163  , 0.486222366091  , 0.491651220042  , 0.490106816681  , 0.445010664054  , 0.431992385594  , 0.546211117503  , 0.447733017598 );\n",
      "                        kernels[17] = compute_kernel(x,   0.212151250469  , 0.128551749419  , 0.235821617183  , 0.150697212774  , 0.191216574573  , 0.10170055776  , 0.120280098723  , 0.105966592853  , 0.024345945966  , 0.073729314117  , 0.126651331079  , 0.079867875481  , 0.192970948691  , 0.230595639216  , 0.234629592153  , 0.239456328681  , 0.187132411295  , 0.13190404401  , 0.31048952938  , 0.152979171048 );\n",
      "                        kernels[18] = compute_kernel(x,   -1.762924471276  , -1.76080992264  , -2.196158662067  , -1.839295675659  , -2.114946384061  , -1.813887719689  , -1.749522617132  , -1.804223873964  , -1.737606441785  , -1.712409334752  , -1.732000562514  , -1.718608526581  , -2.058321604219  , -2.040577070322  , -2.031833853888  , -2.04205520005  , -1.76952466566  , -1.773016547974  , -2.447453051839  , -1.850907054341 );\n",
      "                        kernels[19] = compute_kernel(x,   -0.857833792233  , -0.814446602677  , -0.658288779598  , -0.793408760755  , -0.727828444818  , -0.791175985947  , -0.831775412563  , -0.80149435471  , -0.830334195804  , -0.819818441053  , -0.840093020175  , -0.823955114505  , -0.811200790219  , -0.723035247424  , -0.738937180203  , -0.735514860932  , -0.847908572799  , -0.806666080544  , -0.561680346769  , -0.788473413435 );\n",
      "                        kernels[20] = compute_kernel(x,   -1.446279081825  , -1.461321553499  , -1.588163592159  , -1.488326912257  , -1.360327517774  , -1.461440487524  , -1.470767625093  , -1.463555323805  , -1.255706350716  , -1.416895701308  , -1.455963152575  , -1.422827682449  , -1.515428484008  , -1.553002306043  , -1.580098871522  , -1.574305864149  , -1.442767923783  , -1.461672089259  , -1.645999652119  , -1.490163540649 );\n",
      "                        kernels[21] = compute_kernel(x,   0.951515798635  , 0.973658953115  , 0.951109934557  , 0.968454431452  , 0.889924620946  , 1.002993066105  , 0.956545074857  , 0.990073766015  , 1.04684266384  , 0.991092989514  , 0.949856229166  , 0.984434344756  , 0.979269658616  , 0.93525571281  , 0.935597668248  , 0.934172641907  , 0.961039853944  , 0.970969521201  , 0.899793499646  , 0.969051387974 );\n",
      "                        kernels[22] = compute_kernel(x,   0.382051507812  , 0.357284922988  , 0.486172528277  , 0.382336596575  , 0.337129300224  , 0.389687581341  , 0.369015322388  , 0.381763547501  , 0.264668879649  , 0.359188687377  , 0.364656920094  , 0.354211733424  , 0.335142775841  , 0.447046058744  , 0.460497083322  , 0.454581550669  , 0.358260844898  , 0.356675128098  , 0.569783276257  , 0.381743350456 );\n",
      "                        kernels[23] = compute_kernel(x,   0.266151137387  , 0.275223918854  , 0.378879280683  , 0.29459440575  , 0.242946104346  , 0.289291221098  , 0.287533093953  , 0.285012196467  , 0.069751999545  , 0.254356008829  , 0.286139612376  , 0.252850723578  , 0.224875645391  , 0.361805952701  , 0.382611741537  , 0.377610140961  , 0.244057297071  , 0.277228892249  , 0.475494641074  , 0.295956783176 );\n",
      "                        kernels[24] = compute_kernel(x,   1.348592856759  , 1.362176129599  , 1.201460845651  , 1.333461945404  , 1.44634180916  , 1.355320485469  , 1.381110370423  , 1.362251376868  , 1.489529509785  , 1.410534246741  , 1.4037844144  , 1.408713192809  , 1.282578257662  , 1.248551194665  , 1.239350501229  , 1.236137403055  , 1.353639449875  , 1.36449783302  , 1.041226452587  , 1.331994557232 );\n",
      "                        kernels[25] = compute_kernel(x,   0.786533061842  , 0.765074639493  , 0.700759023464  , 0.750853798151  , 0.48473450875  , 0.756828153864  , 0.742118157894  , 0.748010041034  , 0.520784062336  , 0.729833619105  , 0.725345802415  , 0.723225287602  , 0.657931078099  , 0.740786938744  , 0.748672847958  , 0.746678182364  , 0.789593473521  , 0.760778438646  , 0.640499752769  , 0.751285486426 );\n",
      "                        kernels[26] = compute_kernel(x,   1.440240571893  , 1.508478856378  , 1.272989677338  , 1.470339763129  , 1.568353339246  , 1.458878285899  , 1.505477982264  , 1.472718436655  , 1.647005330702  , 1.552843364186  , 1.530148206505  , 1.55059382395  , 1.402231232131  , 1.361010808383  , 1.317235843015  , 1.332845071668  , 1.453675815481  , 1.509241072929  , 1.064798611341  , 1.466173547066 );\n",
      "                        kernels[27] = compute_kernel(x,   0.16744178388  , 0.080158076689  , 0.200057201276  , 0.108580961174  , 0.131877905604  , 0.057416720105  , 0.077394715334  , 0.064448771722  , -0.052701985135  , 0.022172513611  , 0.08739267722  , 0.033772159512  , 0.155445011127  , 0.193922262924  , 0.203475455434  , 0.207878314438  , 0.131043215955  , 0.085313378376  , 0.286917370542  , 0.111185715191 );\n",
      "                        kernels[28] = compute_kernel(x,   -0.956005526704  , -0.944817607374  , -0.837110859005  , -0.93028657848  , -0.827179450507  , -0.932170245064  , -0.956143024388  , -0.940134221695  , -0.928470925861  , -0.954180004498  , -0.957868981748  , -0.956542254521  , -0.929687110734  , -0.87853666302  , -0.886919329587  , -0.889457680347  , -0.94828829083  , -0.93453717862  , -0.750257617217  , -0.92485205885 );\n",
      "                        kernels[29] = compute_kernel(x,   1.417575870276  , 1.464396978245  , 1.272989677338  , 1.431733199154  , 1.547928208015  , 1.427190989545  , 1.484035290561  , 1.445287019129  , 1.62224438362  , 1.513821139891  , 1.506838380774  , 1.516517689833  , 1.367033761257  , 1.328896421876  , 1.301658774641  , 1.311135186878  , 1.431123548909  , 1.465431932968  , 1.088370770178  , 1.430979057937 );\n",
      "                        kernels[30] = compute_kernel(x,   -0.276753258999  , -0.144381300183  , 0.056999537776  , -0.112529359802  , -0.153375274379  , -0.152618797541  , -0.158474893316  , -0.1487007564  , -0.286883919928  , -0.192972679494  , -0.165334906989  , -0.183323793113  , -0.035646797673  , -0.009737331312  , 0.000973566798  , 0.006568473673  , -0.26645316524  , -0.139100938935  , 0.169056576439  , -0.106580186358 );\n",
      "                        kernels[31] = compute_kernel(x,   -1.337994659421  , -1.41826994937  , -1.516634760473  , -1.435681597782  , -1.248406906027  , -1.409313784706  , -1.419305165016  , -1.412399437048  , -1.219857226405  , -1.379663008032  , -1.398302004722  , -1.383175453659  , -1.38577640147  , -1.480749534638  , -1.517790598083  , -1.507202583894  , -1.3459423375  , -1.419840663281  , -1.551711016937  , -1.441771118095 );\n",
      "                        kernels[32] = compute_kernel(x,   -1.000248867566  , -1.076785316934  , -0.980168522378  , -1.063654708581  , -0.891463412685  , -1.069046268475  , -1.071933559557  , -1.068023938573  , -0.987882886488  , -1.076114702433  , -1.064603446926  , -1.072772850161  , -0.989466518814  , -1.042326728198  , -1.042690013185  , -1.043400499762  , -0.988139408756  , -1.071901030209  , -0.915262728912  , -1.061230704265 );\n",
      "                        kernels[33] = compute_kernel(x,   -0.740874722944  , -0.595075834399  , -0.336409036818  , -0.558259689279  , -0.492136222224  , -0.544283548368  , -0.561597497196  , -0.549792564112  , -0.586963773487  , -0.592218711048  , -0.581231271299  , -0.590750443932  , -0.413529416011  , -0.471210376907  , -0.442972881409  , -0.455259984574  , -0.732569025019  , -0.590086219764  , -0.160953646951  , -0.550910611748 );\n",
      "                        kernels[34] = compute_kernel(x,   0.844968826233  , 0.826881167322  , 0.77228785515  , 0.821047550852  , 0.680938194583  , 0.837071165759  , 0.806446232986  , 0.82808012465  , 0.758491759271  , 0.811650757506  , 0.784233783202  , 0.806618881275  , 0.777550509276  , 0.797817428758  , 0.818769655556  , 0.807860584964  , 0.854736939708  , 0.822994479202  , 0.734788387951  , 0.819474809134 );\n",
      "                        kernels[35] = compute_kernel(x,   -1.229540227542  , -1.297501324793  , -1.302048265286  , -1.291784404757  , -1.125966418333  , -1.29290912763  , -1.269206323146  , -1.279690687362  , -1.134536764065  , -1.269710103704  , -1.260896716217  , -1.26198832942  , -1.207015082096  , -1.31544249278  , -1.323077243606  , -1.311813620783  , -1.224197956789  , -1.299289475363  , -1.268845111139  , -1.29439419482 );\n",
      "                        kernels[36] = compute_kernel(x,   -1.517788242508  , -1.547131980408  , -1.731221255659  , -1.583088478383  , -1.425068493214  , -1.534074104253  , -1.543672776857  , -1.536211510779  , -1.294971335875  , -1.478250977267  , -1.533253627359  , -1.488006033524  , -1.577916301844  , -1.63781136563  , -1.68134981584  , -1.665092655079  , -1.520564381179  , -1.549498582859  , -1.834576922652  , -1.586948385789 );\n",
      "                        kernels[37] = compute_kernel(x,   -1.16845970297  , -1.225309639955  , -1.230519433472  , -1.228610027356  , -1.086952768581  , -1.238936174549  , -1.226320939756  , -1.231871054101  , -1.103226578635  , -1.221806105213  , -1.216730730625  , -1.217627398461  , -1.161815637897  , -1.243708567433  , -1.252980436008  , -1.246683966413  , -1.154056994471  , -1.228693039719  , -1.221700793548  , -1.230604183244 );\n",
      "                        kernels[38] = compute_kernel(x,   -1.714845168433  , -1.673481745529  , -2.01733658266  , -1.737514734283  , -2.043338893313  , -1.698397734323  , -1.672328927025  , -1.697463762493  , -1.673987290743  , -1.614120584507  , -1.655936920665  , -1.624930136064  , -2.006580529137  , -1.865670805467  , -1.891640238663  , -1.886138754749  , -1.727265047096  , -1.680742053482  , -2.211731463632  , -1.745323586923 );\n",
      "                        kernels[39] = compute_kernel(x,   -1.037254580702  , -1.137134880788  , -1.087461770099  , -1.130338773606  , -0.909370064365  , -1.151240541468  , -1.140550172977  , -1.14253359971  , -0.990654066834  , -1.141669195631  , -1.134532924113  , -1.135472936936  , -1.001930341484  , -1.134510348104  , -1.128363889157  , -1.130240038923  , -1.023803434259  , -1.138176915975  , -1.056695681853  , -1.129420026973 );\n",
      "                        kernels[40] = compute_kernel(x,   8.821357e-06  , -0.065803827288  , 0.092763953683  , -0.031806544227  , -0.00260276111  , -0.087275962162  , -0.072704126537  , -0.078639433251  , -0.161640058733  , -0.117326594262  , -0.074549269945  , -0.106745426262  , 0.078523357505  , 0.067992120313  , 0.078858908583  , 0.081566257496  , -0.01982373768  , -0.06004854716  , 0.192628735276  , -0.02739258579 );\n",
      "                        kernels[41] = compute_kernel(x,   0.71640505791  , 0.633911156856  , 0.59346577587  , 0.631524418601  , 0.408392380374  , 0.620872976792  , 0.626327622741  , 0.61641337585  , 0.416203810249  , 0.591626572628  , 0.613704005505  , 0.590142494724  , 0.584053711642  , 0.650838953966  , 0.64742190364  , 0.647996887894  , 0.715028286393  , 0.626682637955  , 0.616927593932  , 0.628104774436 );\n",
      "                        kernels[42] = compute_kernel(x,   -0.785331105514  , -0.696819395512  , -0.479466700191  , -0.663550318279  , -0.65177731012  , -0.658759487481  , -0.677388032349  , -0.664337267047  , -0.738239609281  , -0.700966536343  , -0.696553567007  , -0.700537552395  , -0.732593772158  , -0.598546314628  , -0.567589428259  , -0.583545667401  , -0.776134080423  , -0.690328065153  , -0.302386599808  , -0.656494079166 );\n",
      "                        kernels[43] = compute_kernel(x,   0.991066317584  , 1.033522567481  , 0.986874350464  , 1.028119121228  , 0.917285470652  , 1.068475252033  , 1.046604379979  , 1.05754022536  , 1.073849906058  , 1.06401858901  , 1.044322365009  , 1.057047488727  , 0.990051080883  , 0.992161101834  , 0.997905941687  , 0.989434166825  , 1.001270827549  , 1.030771470944  , 0.970509976075  , 1.026242432822 );\n",
      "                        kernels[44] = compute_kernel(x,   0.707420594083  , 0.591348191312  , 0.557701359963  , 0.585898479376  , 0.401412490961  , 0.56255779513  , 0.557711009321  , 0.557843592471  , 0.409654776734  , 0.533509353695  , 0.547455027117  , 0.532522849763  , 0.576278191982  , 0.608701800172  , 0.592902164387  , 0.600629866516  , 0.709001763415  , 0.582193658563  , 0.546211117503  , 0.584111663013 );\n",
      "                        kernels[45] = compute_kernel(x,   -1.093345712957  , -1.158126785975  , -1.158990601785  , -1.154906587031  , -1.021625301858  , -1.174281874801  , -1.166281403008  , -1.168111543083  , -1.048408373177  , -1.160711009911  , -1.162750081572  , -1.158025142061  , -1.123912227266  , -1.167583278351  , -1.167306560036  , -1.165765304935  , -1.084729606596  , -1.158897906133  , -1.127412158282  , -1.155815893824 );\n",
      "                        kernels[46] = compute_kernel(x,   0.232284809091  , 0.201460860866  , 0.30735044887  , 0.224400653049  , 0.221057654878  , 0.192272920859  , 0.201762327174  , 0.196045436906  , 0.054083020475  , 0.161217101167  , 0.202714972929  , 0.166235386314  , 0.210344983738  , 0.292655596934  , 0.312514933938  , 0.310506860706  , 0.211311509695  , 0.204236469321  , 0.381206005808  , 0.225567804902 );\n",
      "                        kernels[47] = compute_kernel(x,   1.390657714555  , 1.397616370168  , 1.237225261558  , 1.372068509379  , 1.529613399391  , 1.386413780829  , 1.406841600454  , 1.395613911705  , 1.590327379829  , 1.453505322935  , 1.422186908393  , 1.4508436859  , 1.351439792452  , 1.285031851575  , 1.262716103762  , 1.265741791413  , 1.399507895611  , 1.399731834182  , 1.064798611341  , 1.369388701942 );\n",
      "                        kernels[48] = compute_kernel(x,   0.914217224094  , 0.91275521772  , 0.808052271057  , 0.898260678802  , 0.761635483263  , 0.92778672336  , 0.879351384749  , 0.912598546234  , 0.854491091997  , 0.908152921973  , 0.860297425052  , 0.897323354632  , 0.861541100081  , 0.867656704825  , 0.873289394808  , 0.872990239335  , 0.921966084678  , 0.909874557907  , 0.758360546789  , 0.89646275412 );\n",
      "                        kernels[49] = compute_kernel(x,   1.319219857936  , 1.252037180259  , 1.129932013964  , 1.235190691653  , 1.395138263247  , 1.25442383182  , 1.26531983527  , 1.260310298194  , 1.424395873249  , 1.282131808076  , 1.279874288159  , 1.284923891056  , 1.238145072387  , 1.155300475137  , 1.161465159417  , 1.153245115693  , 1.322231599518  , 1.252030544895  , 1.01765429375  , 1.233010056527 );\n",
      "                        kernels[50] = compute_kernel(x,   -0.866801338362  , -0.878635485225  , -0.729817611285  , -0.856583138155  , -0.765888032333  , -0.871612937185  , -0.883237872625  , -0.868960814045  , -0.876274803079  , -0.899081203575  , -0.885485838702  , -0.891116077017  , -0.851844326083  , -0.815186469367  , -0.809033987802  , -0.808539018869  , -0.855331493466  , -0.871729313264  , -0.655968982035  , -0.85006376943 );\n",
      "                        decisions[0] = 0.050920429987\n",
      "                        + kernels[0] * 0.948643549499\n",
      "                        + kernels[1] * 0.949235461836\n",
      "                        + kernels[2] * 1.077932385256\n",
      "                        + kernels[3] * 0.950825142467\n",
      "                        + kernels[4] * 0.940625709888\n",
      "                        + kernels[5] * 0.940582916603\n",
      "                        + kernels[6] * 1.046570165337\n",
      "                        + kernels[7] * 0.949817052315\n",
      "                        + kernels[8] * 0.923969219126\n",
      "                        + kernels[9] * 1.274132683712\n",
      "                        + kernels[10] * 1.36892756882\n",
      "                        + kernels[11] * 0.947618033846\n",
      "                        + kernels[12] * 0.973274312238\n",
      "                        + kernels[13] * 1.363434642477\n",
      "                        + kernels[14] * -1.050682516348\n",
      "                        + kernels[15] * -0.937590827165\n",
      "                        + kernels[16] * -0.935884887255\n",
      "                        + kernels[17] * -1.051009367193\n",
      "                        + kernels[18] * -1.052806185551\n",
      "                        + kernels[19] * -1.051054523227\n",
      "                        + kernels[20] * -1.050658698262\n",
      "                        + kernels[21] * -1.080272825752\n",
      "                        + kernels[22] * -1.266488591967\n",
      "                        + kernels[23] * -1.458949125307\n",
      "                        + kernels[24] * -1.186520111246\n",
      "                        + kernels[25] * -1.386549552084\n",
      "                        + kernels[26] * -1.147121632062\n",
      "                        ;\n",
      "                        decisions[1] = 0.125991037368\n",
      "                        + kernels[0] * 0.874228122986\n",
      "                        + kernels[1] * 0.873970763285\n",
      "                        + kernels[2] * 0.854565836326\n",
      "                        + kernels[3] * 0.874414459084\n",
      "                        + kernels[4] * 0.867313333268\n",
      "                        + kernels[5] * 1.243227996844\n",
      "                        + kernels[6] * 0.873562811993\n",
      "                        + kernels[7] * 0.874414459081\n",
      "                        + kernels[8] * 0.853921628237\n",
      "                        + kernels[9] * 0.873993221308\n",
      "                        + kernels[10] * 0.931812037654\n",
      "                        + kernels[11] * 0.873118384158\n",
      "                        + kernels[12] * 0.863725801938\n",
      "                        + kernels[13] * 0.87367738167\n",
      "                        + kernels[27] * -1.126342797936\n",
      "                        + kernels[28] * -1.126026797634\n",
      "                        + kernels[29] * -1.130810835074\n",
      "                        + kernels[30] * -1.126163751528\n",
      "                        + kernels[31] * -1.126140371436\n",
      "                        + kernels[32] * -1.12602201615\n",
      "                        + kernels[33] * -1.126160592052\n",
      "                        + kernels[34] * -1.479581373662\n",
      "                        + kernels[35] * -1.056515480753\n",
      "                        + kernels[36] * -1.125728652133\n",
      "                        + kernels[37] * -1.056453569473\n",
      "                        ;\n",
      "                        decisions[2] = 0.07682798891\n",
      "                        + kernels[0] * 1.44390857362\n",
      "                        + kernels[1] * 0.923448428846\n",
      "                        + kernels[2] * 1.474427706882\n",
      "                        + kernels[3] * 0.923594869158\n",
      "                        + kernels[4] * 0.916236397776\n",
      "                        + kernels[5] * 1.420607421332\n",
      "                        + kernels[6] * 0.916195528321\n",
      "                        + kernels[7] * 0.971179807805\n",
      "                        + kernels[8] * 2.235719504669\n",
      "                        + kernels[9] * 0.922926830479\n",
      "                        + kernels[10] * 0.922770909519\n",
      "                        + kernels[11] * 0.920571890005\n",
      "                        + kernels[12] * 1.232547078256\n",
      "                        + kernels[13] * 1.504813075848\n",
      "                        + kernels[38] * -1.076799384071\n",
      "                        + kernels[39] * -0.98323769212\n",
      "                        + kernels[40] * -1.559011317052\n",
      "                        + kernels[41] * -0.916506442941\n",
      "                        + kernels[42] * -1.076864042811\n",
      "                        + kernels[43] * -1.077042738581\n",
      "                        + kernels[44] * -0.973940404387\n",
      "                        + kernels[45] * -0.983017602789\n",
      "                        + kernels[46] * -1.618373066792\n",
      "                        + kernels[47] * -1.077769340582\n",
      "                        + kernels[48] * -1.725155685508\n",
      "                        + kernels[49] * -2.584662691334\n",
      "                        + kernels[50] * -1.076567613549\n",
      "                        ;\n",
      "                        decisions[3] = 0.080396132465\n",
      "                        + kernels[14] * 1.021107428744\n",
      "                        + kernels[15] * 0.849015115788\n",
      "                        + kernels[16] * 0.841904422319\n",
      "                        + kernels[17] * 1.16043114965\n",
      "                        + kernels[18] * 0.919728488852\n",
      "                        + kernels[19] * 0.919911744078\n",
      "                        + kernels[20] * 0.93716321371\n",
      "                        + kernels[21] * 0.919655310037\n",
      "                        + kernels[22] * 0.84179211681\n",
      "                        + kernels[23] * 0.919733875554\n",
      "                        + kernels[24] * 0.921964107682\n",
      "                        + kernels[25] * 0.849330033264\n",
      "                        + kernels[26] * 1.889630509809\n",
      "                        + kernels[27] * -1.296364278995\n",
      "                        + kernels[28] * -1.145368061406\n",
      "                        + kernels[29] * -1.998694965951\n",
      "                        + kernels[30] * -1.080547853667\n",
      "                        + kernels[31] * -1.094413020822\n",
      "                        + kernels[32] * -1.106210007906\n",
      "                        + kernels[33] * -1.080408980124\n",
      "                        + kernels[34] * -1.080871281352\n",
      "                        + kernels[35] * -1.013442375007\n",
      "                        + kernels[36] * -1.081390889352\n",
      "                        + kernels[37] * -1.013655801714\n",
      "                        ;\n",
      "                        decisions[4] = 0.005637383929\n",
      "                        + kernels[14] * 0.99444437317\n",
      "                        + kernels[15] * 0.998850298979\n",
      "                        + kernels[16] * 0.91034391082\n",
      "                        + kernels[17] * 1.016841148139\n",
      "                        + kernels[18] * 0.994653086844\n",
      "                        + kernels[19] * 1.032665930754\n",
      "                        + kernels[20] * 0.994085101302\n",
      "                        + kernels[21] * 1.051560347458\n",
      "                        + kernels[22] * 0.910100992722\n",
      "                        + kernels[23] * 1.012066738537\n",
      "                        + kernels[24] * 1.211366094395\n",
      "                        + kernels[25] * 0.911501916979\n",
      "                        + kernels[26] * 1.002794950531\n",
      "                        + kernels[38] * -1.005816934541\n",
      "                        + kernels[39] * -0.918545202045\n",
      "                        + kernels[40] * -1.005495295912\n",
      "                        + kernels[41] * -0.949596160764\n",
      "                        + kernels[42] * -1.00570004248\n",
      "                        + kernels[43] * -1.061102701619\n",
      "                        + kernels[44] * -0.849945793444\n",
      "                        + kernels[45] * -0.918552490828\n",
      "                        + kernels[46] * -1.044471638487\n",
      "                        + kernels[47] * -1.224986453305\n",
      "                        + kernels[48] * -1.006136787758\n",
      "                        + kernels[49] * -1.007294285994\n",
      "                        + kernels[50] * -1.043631103449\n",
      "                        ;\n",
      "                        decisions[5] = -0.072110839504\n",
      "                        + kernels[27] * 1.072410293003\n",
      "                        + kernels[28] * 1.081773151547\n",
      "                        + kernels[29] * 1.199075657014\n",
      "                        + kernels[30] * 1.071517092962\n",
      "                        + kernels[31] * 1.072478543699\n",
      "                        + kernels[32] * 1.083898183385\n",
      "                        + kernels[33] * 1.071502627284\n",
      "                        + kernels[34] * 1.07973087199\n",
      "                        + kernels[35] * 1.004286079026\n",
      "                        + kernels[36] * 1.07236169525\n",
      "                        + kernels[37] * 1.023623866546\n",
      "                        + kernels[38] * -0.927777595006\n",
      "                        + kernels[39] * -0.859741371295\n",
      "                        + kernels[40] * -0.927733013885\n",
      "                        + kernels[41] * -0.796507061927\n",
      "                        + kernels[42] * -0.927635734471\n",
      "                        + kernels[43] * -0.928497586569\n",
      "                        + kernels[44] * -0.796700005209\n",
      "                        + kernels[45] * -0.866712235856\n",
      "                        + kernels[46] * -0.927637809048\n",
      "                        + kernels[47] * -1.070063685116\n",
      "                        + kernels[48] * -0.937019726093\n",
      "                        + kernels[49] * -0.927714893527\n",
      "                        + kernels[50] * -0.938917343703\n",
      "                        ;\n",
      "                        votes[decisions[0] > 0 ? 0 : 1] += 1;\n",
      "                        votes[decisions[1] > 0 ? 0 : 2] += 1;\n",
      "                        votes[decisions[2] > 0 ? 0 : 3] += 1;\n",
      "                        votes[decisions[3] > 0 ? 1 : 2] += 1;\n",
      "                        votes[decisions[4] > 0 ? 1 : 3] += 1;\n",
      "                        votes[decisions[5] > 0 ? 2 : 3] += 1;\n",
      "                        int val = votes[0];\n",
      "                        int idx = 0;\n",
      "\n",
      "                        for (int i = 1; i < 4; i++) {\n",
      "                            if (votes[i] > val) {\n",
      "                                val = votes[i];\n",
      "                                idx = i;\n",
      "                            }\n",
      "                        }\n",
      "\n",
      "                        return idx;\n",
      "                    }\n",
      "\n",
      "                protected:\n",
      "                    /**\n",
      "                    * Compute kernel between feature vector and support vector.\n",
      "                    * Kernel type: rbf\n",
      "                    */\n",
      "                    float compute_kernel(float *x, ...) {\n",
      "                        va_list w;\n",
      "                        va_start(w, 20);\n",
      "                        float kernel = 0.0;\n",
      "\n",
      "                        for (uint16_t i = 0; i < 20; i++) {\n",
      "                            kernel += pow(x[i] - va_arg(w, double), 2);\n",
      "                        }\n",
      "\n",
      "                        return exp(-41.0 * kernel);\n",
      "                    }\n",
      "                };\n",
      "            }\n",
      "        }\n",
      "    }\n"
     ]
    }
   ],
   "source": [
    "print(port(model))"
   ]
  },
  {
   "cell_type": "markdown",
   "metadata": {},
   "source": [
    "## 11. Saves the template in a .h file"
   ]
  },
  {
   "cell_type": "code",
   "execution_count": 29,
   "metadata": {},
   "outputs": [],
   "source": [
    "with open('./SVMClassifier/SVMClassifier.h', 'w') as file:\n",
    "    file.write(port(model))"
   ]
  },
  {
   "cell_type": "markdown",
   "metadata": {},
   "source": [
    "## (BONUS) Hyperparameter tuning"
   ]
  },
  {
   "cell_type": "markdown",
   "metadata": {},
   "source": [
    "RandomizedSearchCV is a function provided by the scikit-learn library in Python, commonly used for hyperparameter tuning in machine learning models through cross-validation. This technique proves beneficial when dealing with an extensive search space for hyperparameters and aims to identify the most effective combination of values.\n",
    "\n",
    "Step-by-Step Explanation\n",
    "1. Definition of Parameter Space:\n",
    "Before utilizing RandomizedSearchCV, one needs to specify a search space for the model's hyperparameters. Rather than providing a specific grid of values, distributions are defined for each hyperparameter.\n",
    "\n",
    "2. Random Sampling:\n",
    "Instead of evaluating all conceivable combinations of hyperparameters (as in the case of GridSearchCV), RandomizedSearchCV randomly selects a fixed set of combinations for evaluation. This proves advantageous when dealing with a large search space.\n",
    "\n",
    "3. Model Training:\n",
    "For each randomly selected set of hyperparameters, RandomizedSearchCV trains the model using cross-validation. The data is divided into folds, with the model being trained on some folds and evaluated on the remaining folds.\n",
    "\n",
    "4. Performance Evaluation:\n",
    "Performance is measured using a specified metric (e.g., accuracy, F1-score). The objective is to find hyperparameters that maximize or minimize this metric, depending on the problem at hand (e.g., maximizing accuracy in a classification problem).\n",
    "\n",
    "5. Selection of the Best Model:\n",
    "Upon completion of the random search, RandomizedSearchCV returns the set of hyperparameters that led to the best average performance during cross-validation.\n",
    "\n",
    "By employing RandomizedSearchCV, computational time can be saved compared to an exhaustive grid search (GridSearchCV), especially when dealing with a large search space. This efficiency stems from exploring a random sample of the hyperparameter space rather than evaluating all possible combinations."
   ]
  },
  {
   "cell_type": "markdown",
   "metadata": {},
   "source": [
    "### 2. Set Grid search for Combinations of Parameters"
   ]
  },
  {
   "cell_type": "code",
   "execution_count": 59,
   "metadata": {},
   "outputs": [],
   "source": [
    "params = {\n",
    "    \"C\": np.arange(1, 500, 10), #0.01 A 1000 TIPICAMENTE VALORES LOGARITMICOS\n",
    "    \"gamma\": np.arange(1, 100, 10),\n",
    "    \"kernel\": ['rbf', 'linear', 'poly'],\n",
    "    \"decision_function_shape\": ['ovo','ovr']\n",
    "}"
   ]
  },
  {
   "cell_type": "markdown",
   "metadata": {},
   "source": [
    "### 3. Define Performance Measure"
   ]
  },
  {
   "cell_type": "code",
   "execution_count": 60,
   "metadata": {},
   "outputs": [],
   "source": [
    "auc = make_scorer(roc_auc_score, multi_class=\"ovo\")"
   ]
  },
  {
   "cell_type": "code",
   "execution_count": 35,
   "metadata": {},
   "outputs": [],
   "source": [
    "from sklearn.metrics import make_scorer, f1_score\n",
    "\n",
    "f1 = make_scorer(f1_score, average=\"weighted\")\n",
    "best_model = RandomizedSearchCV(\n",
    "    model, \n",
    "    param_distributions=params, \n",
    "    random_state=42,\n",
    "    n_iter=2, \n",
    "    cv=5, \n",
    "    verbose=2, \n",
    "    n_jobs=-1,\n",
    "    return_train_score=True, \n",
    "    scoring=f1\n",
    ")\n"
   ]
  },
  {
   "cell_type": "code",
   "execution_count": 34,
   "metadata": {},
   "outputs": [],
   "source": [
    "from sklearn.metrics import make_scorer, average_precision_score\n",
    "\n",
    "pr_auc = make_scorer(average_precision_score, needs_proba=True)\n",
    "best_model = RandomizedSearchCV(\n",
    "    model, \n",
    "    param_distributions=params, \n",
    "    random_state=42,\n",
    "    n_iter=2, \n",
    "    cv=5, \n",
    "    verbose=2, \n",
    "    n_jobs=-1,\n",
    "    return_train_score=True, \n",
    "    scoring=pr_auc\n",
    ")\n"
   ]
  },
  {
   "cell_type": "markdown",
   "metadata": {},
   "source": [
    "### 4. Runs the search for the best model"
   ]
  },
  {
   "cell_type": "markdown",
   "metadata": {},
   "source": [
    "STANDARD SCALER"
   ]
  },
  {
   "cell_type": "code",
   "execution_count": 62,
   "metadata": {},
   "outputs": [],
   "source": [
    "best_model = RandomizedSearchCV(model, param_distributions=params, random_state=42, \n",
    "                                n_iter=10, cv=10, verbose=2, n_jobs=-1, \n",
    "                                return_train_score=True, scoring = auc)"
   ]
  },
  {
   "cell_type": "code",
   "execution_count": 63,
   "metadata": {},
   "outputs": [
    {
     "name": "stdout",
     "output_type": "stream",
     "text": [
      "Fitting 10 folds for each of 10 candidates, totalling 100 fits\n"
     ]
    },
    {
     "name": "stderr",
     "output_type": "stream",
     "text": [
      "C:\\Users\\quija\\AppData\\Local\\Packages\\PythonSoftwareFoundation.Python.3.11_qbz5n2kfra8p0\\LocalCache\\local-packages\\Python311\\site-packages\\sklearn\\model_selection\\_search.py:1108: UserWarning:\n",
      "\n",
      "One or more of the test scores are non-finite: [nan nan nan nan nan nan nan nan nan nan]\n",
      "\n",
      "C:\\Users\\quija\\AppData\\Local\\Packages\\PythonSoftwareFoundation.Python.3.11_qbz5n2kfra8p0\\LocalCache\\local-packages\\Python311\\site-packages\\sklearn\\model_selection\\_search.py:1108: UserWarning:\n",
      "\n",
      "One or more of the train scores are non-finite: [nan nan nan nan nan nan nan nan nan nan]\n",
      "\n"
     ]
    },
    {
     "data": {
      "text/html": [
       "<style>#sk-container-id-7 {\n",
       "  /* Definition of color scheme common for light and dark mode */\n",
       "  --sklearn-color-text: #000;\n",
       "  --sklearn-color-text-muted: #666;\n",
       "  --sklearn-color-line: gray;\n",
       "  /* Definition of color scheme for unfitted estimators */\n",
       "  --sklearn-color-unfitted-level-0: #fff5e6;\n",
       "  --sklearn-color-unfitted-level-1: #f6e4d2;\n",
       "  --sklearn-color-unfitted-level-2: #ffe0b3;\n",
       "  --sklearn-color-unfitted-level-3: chocolate;\n",
       "  /* Definition of color scheme for fitted estimators */\n",
       "  --sklearn-color-fitted-level-0: #f0f8ff;\n",
       "  --sklearn-color-fitted-level-1: #d4ebff;\n",
       "  --sklearn-color-fitted-level-2: #b3dbfd;\n",
       "  --sklearn-color-fitted-level-3: cornflowerblue;\n",
       "\n",
       "  /* Specific color for light theme */\n",
       "  --sklearn-color-text-on-default-background: var(--sg-text-color, var(--theme-code-foreground, var(--jp-content-font-color1, black)));\n",
       "  --sklearn-color-background: var(--sg-background-color, var(--theme-background, var(--jp-layout-color0, white)));\n",
       "  --sklearn-color-border-box: var(--sg-text-color, var(--theme-code-foreground, var(--jp-content-font-color1, black)));\n",
       "  --sklearn-color-icon: #696969;\n",
       "\n",
       "  @media (prefers-color-scheme: dark) {\n",
       "    /* Redefinition of color scheme for dark theme */\n",
       "    --sklearn-color-text-on-default-background: var(--sg-text-color, var(--theme-code-foreground, var(--jp-content-font-color1, white)));\n",
       "    --sklearn-color-background: var(--sg-background-color, var(--theme-background, var(--jp-layout-color0, #111)));\n",
       "    --sklearn-color-border-box: var(--sg-text-color, var(--theme-code-foreground, var(--jp-content-font-color1, white)));\n",
       "    --sklearn-color-icon: #878787;\n",
       "  }\n",
       "}\n",
       "\n",
       "#sk-container-id-7 {\n",
       "  color: var(--sklearn-color-text);\n",
       "}\n",
       "\n",
       "#sk-container-id-7 pre {\n",
       "  padding: 0;\n",
       "}\n",
       "\n",
       "#sk-container-id-7 input.sk-hidden--visually {\n",
       "  border: 0;\n",
       "  clip: rect(1px 1px 1px 1px);\n",
       "  clip: rect(1px, 1px, 1px, 1px);\n",
       "  height: 1px;\n",
       "  margin: -1px;\n",
       "  overflow: hidden;\n",
       "  padding: 0;\n",
       "  position: absolute;\n",
       "  width: 1px;\n",
       "}\n",
       "\n",
       "#sk-container-id-7 div.sk-dashed-wrapped {\n",
       "  border: 1px dashed var(--sklearn-color-line);\n",
       "  margin: 0 0.4em 0.5em 0.4em;\n",
       "  box-sizing: border-box;\n",
       "  padding-bottom: 0.4em;\n",
       "  background-color: var(--sklearn-color-background);\n",
       "}\n",
       "\n",
       "#sk-container-id-7 div.sk-container {\n",
       "  /* jupyter's `normalize.less` sets `[hidden] { display: none; }`\n",
       "     but bootstrap.min.css set `[hidden] { display: none !important; }`\n",
       "     so we also need the `!important` here to be able to override the\n",
       "     default hidden behavior on the sphinx rendered scikit-learn.org.\n",
       "     See: https://github.com/scikit-learn/scikit-learn/issues/21755 */\n",
       "  display: inline-block !important;\n",
       "  position: relative;\n",
       "}\n",
       "\n",
       "#sk-container-id-7 div.sk-text-repr-fallback {\n",
       "  display: none;\n",
       "}\n",
       "\n",
       "div.sk-parallel-item,\n",
       "div.sk-serial,\n",
       "div.sk-item {\n",
       "  /* draw centered vertical line to link estimators */\n",
       "  background-image: linear-gradient(var(--sklearn-color-text-on-default-background), var(--sklearn-color-text-on-default-background));\n",
       "  background-size: 2px 100%;\n",
       "  background-repeat: no-repeat;\n",
       "  background-position: center center;\n",
       "}\n",
       "\n",
       "/* Parallel-specific style estimator block */\n",
       "\n",
       "#sk-container-id-7 div.sk-parallel-item::after {\n",
       "  content: \"\";\n",
       "  width: 100%;\n",
       "  border-bottom: 2px solid var(--sklearn-color-text-on-default-background);\n",
       "  flex-grow: 1;\n",
       "}\n",
       "\n",
       "#sk-container-id-7 div.sk-parallel {\n",
       "  display: flex;\n",
       "  align-items: stretch;\n",
       "  justify-content: center;\n",
       "  background-color: var(--sklearn-color-background);\n",
       "  position: relative;\n",
       "}\n",
       "\n",
       "#sk-container-id-7 div.sk-parallel-item {\n",
       "  display: flex;\n",
       "  flex-direction: column;\n",
       "}\n",
       "\n",
       "#sk-container-id-7 div.sk-parallel-item:first-child::after {\n",
       "  align-self: flex-end;\n",
       "  width: 50%;\n",
       "}\n",
       "\n",
       "#sk-container-id-7 div.sk-parallel-item:last-child::after {\n",
       "  align-self: flex-start;\n",
       "  width: 50%;\n",
       "}\n",
       "\n",
       "#sk-container-id-7 div.sk-parallel-item:only-child::after {\n",
       "  width: 0;\n",
       "}\n",
       "\n",
       "/* Serial-specific style estimator block */\n",
       "\n",
       "#sk-container-id-7 div.sk-serial {\n",
       "  display: flex;\n",
       "  flex-direction: column;\n",
       "  align-items: center;\n",
       "  background-color: var(--sklearn-color-background);\n",
       "  padding-right: 1em;\n",
       "  padding-left: 1em;\n",
       "}\n",
       "\n",
       "\n",
       "/* Toggleable style: style used for estimator/Pipeline/ColumnTransformer box that is\n",
       "clickable and can be expanded/collapsed.\n",
       "- Pipeline and ColumnTransformer use this feature and define the default style\n",
       "- Estimators will overwrite some part of the style using the `sk-estimator` class\n",
       "*/\n",
       "\n",
       "/* Pipeline and ColumnTransformer style (default) */\n",
       "\n",
       "#sk-container-id-7 div.sk-toggleable {\n",
       "  /* Default theme specific background. It is overwritten whether we have a\n",
       "  specific estimator or a Pipeline/ColumnTransformer */\n",
       "  background-color: var(--sklearn-color-background);\n",
       "}\n",
       "\n",
       "/* Toggleable label */\n",
       "#sk-container-id-7 label.sk-toggleable__label {\n",
       "  cursor: pointer;\n",
       "  display: flex;\n",
       "  width: 100%;\n",
       "  margin-bottom: 0;\n",
       "  padding: 0.5em;\n",
       "  box-sizing: border-box;\n",
       "  text-align: center;\n",
       "  align-items: start;\n",
       "  justify-content: space-between;\n",
       "  gap: 0.5em;\n",
       "}\n",
       "\n",
       "#sk-container-id-7 label.sk-toggleable__label .caption {\n",
       "  font-size: 0.6rem;\n",
       "  font-weight: lighter;\n",
       "  color: var(--sklearn-color-text-muted);\n",
       "}\n",
       "\n",
       "#sk-container-id-7 label.sk-toggleable__label-arrow:before {\n",
       "  /* Arrow on the left of the label */\n",
       "  content: \"▸\";\n",
       "  float: left;\n",
       "  margin-right: 0.25em;\n",
       "  color: var(--sklearn-color-icon);\n",
       "}\n",
       "\n",
       "#sk-container-id-7 label.sk-toggleable__label-arrow:hover:before {\n",
       "  color: var(--sklearn-color-text);\n",
       "}\n",
       "\n",
       "/* Toggleable content - dropdown */\n",
       "\n",
       "#sk-container-id-7 div.sk-toggleable__content {\n",
       "  max-height: 0;\n",
       "  max-width: 0;\n",
       "  overflow: hidden;\n",
       "  text-align: left;\n",
       "  /* unfitted */\n",
       "  background-color: var(--sklearn-color-unfitted-level-0);\n",
       "}\n",
       "\n",
       "#sk-container-id-7 div.sk-toggleable__content.fitted {\n",
       "  /* fitted */\n",
       "  background-color: var(--sklearn-color-fitted-level-0);\n",
       "}\n",
       "\n",
       "#sk-container-id-7 div.sk-toggleable__content pre {\n",
       "  margin: 0.2em;\n",
       "  border-radius: 0.25em;\n",
       "  color: var(--sklearn-color-text);\n",
       "  /* unfitted */\n",
       "  background-color: var(--sklearn-color-unfitted-level-0);\n",
       "}\n",
       "\n",
       "#sk-container-id-7 div.sk-toggleable__content.fitted pre {\n",
       "  /* unfitted */\n",
       "  background-color: var(--sklearn-color-fitted-level-0);\n",
       "}\n",
       "\n",
       "#sk-container-id-7 input.sk-toggleable__control:checked~div.sk-toggleable__content {\n",
       "  /* Expand drop-down */\n",
       "  max-height: 200px;\n",
       "  max-width: 100%;\n",
       "  overflow: auto;\n",
       "}\n",
       "\n",
       "#sk-container-id-7 input.sk-toggleable__control:checked~label.sk-toggleable__label-arrow:before {\n",
       "  content: \"▾\";\n",
       "}\n",
       "\n",
       "/* Pipeline/ColumnTransformer-specific style */\n",
       "\n",
       "#sk-container-id-7 div.sk-label input.sk-toggleable__control:checked~label.sk-toggleable__label {\n",
       "  color: var(--sklearn-color-text);\n",
       "  background-color: var(--sklearn-color-unfitted-level-2);\n",
       "}\n",
       "\n",
       "#sk-container-id-7 div.sk-label.fitted input.sk-toggleable__control:checked~label.sk-toggleable__label {\n",
       "  background-color: var(--sklearn-color-fitted-level-2);\n",
       "}\n",
       "\n",
       "/* Estimator-specific style */\n",
       "\n",
       "/* Colorize estimator box */\n",
       "#sk-container-id-7 div.sk-estimator input.sk-toggleable__control:checked~label.sk-toggleable__label {\n",
       "  /* unfitted */\n",
       "  background-color: var(--sklearn-color-unfitted-level-2);\n",
       "}\n",
       "\n",
       "#sk-container-id-7 div.sk-estimator.fitted input.sk-toggleable__control:checked~label.sk-toggleable__label {\n",
       "  /* fitted */\n",
       "  background-color: var(--sklearn-color-fitted-level-2);\n",
       "}\n",
       "\n",
       "#sk-container-id-7 div.sk-label label.sk-toggleable__label,\n",
       "#sk-container-id-7 div.sk-label label {\n",
       "  /* The background is the default theme color */\n",
       "  color: var(--sklearn-color-text-on-default-background);\n",
       "}\n",
       "\n",
       "/* On hover, darken the color of the background */\n",
       "#sk-container-id-7 div.sk-label:hover label.sk-toggleable__label {\n",
       "  color: var(--sklearn-color-text);\n",
       "  background-color: var(--sklearn-color-unfitted-level-2);\n",
       "}\n",
       "\n",
       "/* Label box, darken color on hover, fitted */\n",
       "#sk-container-id-7 div.sk-label.fitted:hover label.sk-toggleable__label.fitted {\n",
       "  color: var(--sklearn-color-text);\n",
       "  background-color: var(--sklearn-color-fitted-level-2);\n",
       "}\n",
       "\n",
       "/* Estimator label */\n",
       "\n",
       "#sk-container-id-7 div.sk-label label {\n",
       "  font-family: monospace;\n",
       "  font-weight: bold;\n",
       "  display: inline-block;\n",
       "  line-height: 1.2em;\n",
       "}\n",
       "\n",
       "#sk-container-id-7 div.sk-label-container {\n",
       "  text-align: center;\n",
       "}\n",
       "\n",
       "/* Estimator-specific */\n",
       "#sk-container-id-7 div.sk-estimator {\n",
       "  font-family: monospace;\n",
       "  border: 1px dotted var(--sklearn-color-border-box);\n",
       "  border-radius: 0.25em;\n",
       "  box-sizing: border-box;\n",
       "  margin-bottom: 0.5em;\n",
       "  /* unfitted */\n",
       "  background-color: var(--sklearn-color-unfitted-level-0);\n",
       "}\n",
       "\n",
       "#sk-container-id-7 div.sk-estimator.fitted {\n",
       "  /* fitted */\n",
       "  background-color: var(--sklearn-color-fitted-level-0);\n",
       "}\n",
       "\n",
       "/* on hover */\n",
       "#sk-container-id-7 div.sk-estimator:hover {\n",
       "  /* unfitted */\n",
       "  background-color: var(--sklearn-color-unfitted-level-2);\n",
       "}\n",
       "\n",
       "#sk-container-id-7 div.sk-estimator.fitted:hover {\n",
       "  /* fitted */\n",
       "  background-color: var(--sklearn-color-fitted-level-2);\n",
       "}\n",
       "\n",
       "/* Specification for estimator info (e.g. \"i\" and \"?\") */\n",
       "\n",
       "/* Common style for \"i\" and \"?\" */\n",
       "\n",
       ".sk-estimator-doc-link,\n",
       "a:link.sk-estimator-doc-link,\n",
       "a:visited.sk-estimator-doc-link {\n",
       "  float: right;\n",
       "  font-size: smaller;\n",
       "  line-height: 1em;\n",
       "  font-family: monospace;\n",
       "  background-color: var(--sklearn-color-background);\n",
       "  border-radius: 1em;\n",
       "  height: 1em;\n",
       "  width: 1em;\n",
       "  text-decoration: none !important;\n",
       "  margin-left: 0.5em;\n",
       "  text-align: center;\n",
       "  /* unfitted */\n",
       "  border: var(--sklearn-color-unfitted-level-1) 1pt solid;\n",
       "  color: var(--sklearn-color-unfitted-level-1);\n",
       "}\n",
       "\n",
       ".sk-estimator-doc-link.fitted,\n",
       "a:link.sk-estimator-doc-link.fitted,\n",
       "a:visited.sk-estimator-doc-link.fitted {\n",
       "  /* fitted */\n",
       "  border: var(--sklearn-color-fitted-level-1) 1pt solid;\n",
       "  color: var(--sklearn-color-fitted-level-1);\n",
       "}\n",
       "\n",
       "/* On hover */\n",
       "div.sk-estimator:hover .sk-estimator-doc-link:hover,\n",
       ".sk-estimator-doc-link:hover,\n",
       "div.sk-label-container:hover .sk-estimator-doc-link:hover,\n",
       ".sk-estimator-doc-link:hover {\n",
       "  /* unfitted */\n",
       "  background-color: var(--sklearn-color-unfitted-level-3);\n",
       "  color: var(--sklearn-color-background);\n",
       "  text-decoration: none;\n",
       "}\n",
       "\n",
       "div.sk-estimator.fitted:hover .sk-estimator-doc-link.fitted:hover,\n",
       ".sk-estimator-doc-link.fitted:hover,\n",
       "div.sk-label-container:hover .sk-estimator-doc-link.fitted:hover,\n",
       ".sk-estimator-doc-link.fitted:hover {\n",
       "  /* fitted */\n",
       "  background-color: var(--sklearn-color-fitted-level-3);\n",
       "  color: var(--sklearn-color-background);\n",
       "  text-decoration: none;\n",
       "}\n",
       "\n",
       "/* Span, style for the box shown on hovering the info icon */\n",
       ".sk-estimator-doc-link span {\n",
       "  display: none;\n",
       "  z-index: 9999;\n",
       "  position: relative;\n",
       "  font-weight: normal;\n",
       "  right: .2ex;\n",
       "  padding: .5ex;\n",
       "  margin: .5ex;\n",
       "  width: min-content;\n",
       "  min-width: 20ex;\n",
       "  max-width: 50ex;\n",
       "  color: var(--sklearn-color-text);\n",
       "  box-shadow: 2pt 2pt 4pt #999;\n",
       "  /* unfitted */\n",
       "  background: var(--sklearn-color-unfitted-level-0);\n",
       "  border: .5pt solid var(--sklearn-color-unfitted-level-3);\n",
       "}\n",
       "\n",
       ".sk-estimator-doc-link.fitted span {\n",
       "  /* fitted */\n",
       "  background: var(--sklearn-color-fitted-level-0);\n",
       "  border: var(--sklearn-color-fitted-level-3);\n",
       "}\n",
       "\n",
       ".sk-estimator-doc-link:hover span {\n",
       "  display: block;\n",
       "}\n",
       "\n",
       "/* \"?\"-specific style due to the `<a>` HTML tag */\n",
       "\n",
       "#sk-container-id-7 a.estimator_doc_link {\n",
       "  float: right;\n",
       "  font-size: 1rem;\n",
       "  line-height: 1em;\n",
       "  font-family: monospace;\n",
       "  background-color: var(--sklearn-color-background);\n",
       "  border-radius: 1rem;\n",
       "  height: 1rem;\n",
       "  width: 1rem;\n",
       "  text-decoration: none;\n",
       "  /* unfitted */\n",
       "  color: var(--sklearn-color-unfitted-level-1);\n",
       "  border: var(--sklearn-color-unfitted-level-1) 1pt solid;\n",
       "}\n",
       "\n",
       "#sk-container-id-7 a.estimator_doc_link.fitted {\n",
       "  /* fitted */\n",
       "  border: var(--sklearn-color-fitted-level-1) 1pt solid;\n",
       "  color: var(--sklearn-color-fitted-level-1);\n",
       "}\n",
       "\n",
       "/* On hover */\n",
       "#sk-container-id-7 a.estimator_doc_link:hover {\n",
       "  /* unfitted */\n",
       "  background-color: var(--sklearn-color-unfitted-level-3);\n",
       "  color: var(--sklearn-color-background);\n",
       "  text-decoration: none;\n",
       "}\n",
       "\n",
       "#sk-container-id-7 a.estimator_doc_link.fitted:hover {\n",
       "  /* fitted */\n",
       "  background-color: var(--sklearn-color-fitted-level-3);\n",
       "}\n",
       "</style><div id=\"sk-container-id-7\" class=\"sk-top-container\"><div class=\"sk-text-repr-fallback\"><pre>RandomizedSearchCV(cv=10,\n",
       "                   estimator=SVC(C=371, decision_function_shape=&#x27;ovo&#x27;, gamma=61,\n",
       "                                 kernel=&#x27;poly&#x27;, probability=True),\n",
       "                   n_jobs=-1,\n",
       "                   param_distributions={&#x27;C&#x27;: array([  1,  11,  21,  31,  41,  51,  61,  71,  81,  91, 101, 111, 121,\n",
       "       131, 141, 151, 161, 171, 181, 191, 201, 211, 221, 231, 241, 251,\n",
       "       261, 271, 281, 291, 301, 311, 321, 331, 341, 351, 361, 371, 381,\n",
       "       391, 401, 411, 421, 431, 441, 451, 461, 471, 481, 491]),\n",
       "                                        &#x27;decision_function_shape&#x27;: [&#x27;ovo&#x27;,\n",
       "                                                                    &#x27;ovr&#x27;],\n",
       "                                        &#x27;gamma&#x27;: array([ 1, 11, 21, 31, 41, 51, 61, 71, 81, 91]),\n",
       "                                        &#x27;kernel&#x27;: [&#x27;rbf&#x27;, &#x27;linear&#x27;, &#x27;poly&#x27;]},\n",
       "                   random_state=42, return_train_score=True,\n",
       "                   scoring=make_scorer(roc_auc_score, response_method=&#x27;predict&#x27;, multi_class=ovo),\n",
       "                   verbose=2)</pre><b>In a Jupyter environment, please rerun this cell to show the HTML representation or trust the notebook. <br />On GitHub, the HTML representation is unable to render, please try loading this page with nbviewer.org.</b></div><div class=\"sk-container\" hidden><div class=\"sk-item sk-dashed-wrapped\"><div class=\"sk-label-container\"><div class=\"sk-label fitted sk-toggleable\"><input class=\"sk-toggleable__control sk-hidden--visually\" id=\"sk-estimator-id-15\" type=\"checkbox\" ><label for=\"sk-estimator-id-15\" class=\"sk-toggleable__label fitted sk-toggleable__label-arrow\"><div><div>RandomizedSearchCV</div></div><div><a class=\"sk-estimator-doc-link fitted\" rel=\"noreferrer\" target=\"_blank\" href=\"https://scikit-learn.org/1.6/modules/generated/sklearn.model_selection.RandomizedSearchCV.html\">?<span>Documentation for RandomizedSearchCV</span></a><span class=\"sk-estimator-doc-link fitted\">i<span>Fitted</span></span></div></label><div class=\"sk-toggleable__content fitted\"><pre>RandomizedSearchCV(cv=10,\n",
       "                   estimator=SVC(C=371, decision_function_shape=&#x27;ovo&#x27;, gamma=61,\n",
       "                                 kernel=&#x27;poly&#x27;, probability=True),\n",
       "                   n_jobs=-1,\n",
       "                   param_distributions={&#x27;C&#x27;: array([  1,  11,  21,  31,  41,  51,  61,  71,  81,  91, 101, 111, 121,\n",
       "       131, 141, 151, 161, 171, 181, 191, 201, 211, 221, 231, 241, 251,\n",
       "       261, 271, 281, 291, 301, 311, 321, 331, 341, 351, 361, 371, 381,\n",
       "       391, 401, 411, 421, 431, 441, 451, 461, 471, 481, 491]),\n",
       "                                        &#x27;decision_function_shape&#x27;: [&#x27;ovo&#x27;,\n",
       "                                                                    &#x27;ovr&#x27;],\n",
       "                                        &#x27;gamma&#x27;: array([ 1, 11, 21, 31, 41, 51, 61, 71, 81, 91]),\n",
       "                                        &#x27;kernel&#x27;: [&#x27;rbf&#x27;, &#x27;linear&#x27;, &#x27;poly&#x27;]},\n",
       "                   random_state=42, return_train_score=True,\n",
       "                   scoring=make_scorer(roc_auc_score, response_method=&#x27;predict&#x27;, multi_class=ovo),\n",
       "                   verbose=2)</pre></div> </div></div><div class=\"sk-parallel\"><div class=\"sk-parallel-item\"><div class=\"sk-item\"><div class=\"sk-label-container\"><div class=\"sk-label fitted sk-toggleable\"><input class=\"sk-toggleable__control sk-hidden--visually\" id=\"sk-estimator-id-16\" type=\"checkbox\" ><label for=\"sk-estimator-id-16\" class=\"sk-toggleable__label fitted sk-toggleable__label-arrow\"><div><div>best_estimator_: SVC</div></div></label><div class=\"sk-toggleable__content fitted\"><pre>SVC(C=np.int64(141), decision_function_shape=&#x27;ovo&#x27;, gamma=np.int64(61),\n",
       "    kernel=&#x27;poly&#x27;, probability=True)</pre></div> </div></div><div class=\"sk-serial\"><div class=\"sk-item\"><div class=\"sk-estimator fitted sk-toggleable\"><input class=\"sk-toggleable__control sk-hidden--visually\" id=\"sk-estimator-id-17\" type=\"checkbox\" ><label for=\"sk-estimator-id-17\" class=\"sk-toggleable__label fitted sk-toggleable__label-arrow\"><div><div>SVC</div></div><div><a class=\"sk-estimator-doc-link fitted\" rel=\"noreferrer\" target=\"_blank\" href=\"https://scikit-learn.org/1.6/modules/generated/sklearn.svm.SVC.html\">?<span>Documentation for SVC</span></a></div></label><div class=\"sk-toggleable__content fitted\"><pre>SVC(C=np.int64(141), decision_function_shape=&#x27;ovo&#x27;, gamma=np.int64(61),\n",
       "    kernel=&#x27;poly&#x27;, probability=True)</pre></div> </div></div></div></div></div></div></div></div></div>"
      ],
      "text/plain": [
       "RandomizedSearchCV(cv=10,\n",
       "                   estimator=SVC(C=371, decision_function_shape='ovo', gamma=61,\n",
       "                                 kernel='poly', probability=True),\n",
       "                   n_jobs=-1,\n",
       "                   param_distributions={'C': array([  1,  11,  21,  31,  41,  51,  61,  71,  81,  91, 101, 111, 121,\n",
       "       131, 141, 151, 161, 171, 181, 191, 201, 211, 221, 231, 241, 251,\n",
       "       261, 271, 281, 291, 301, 311, 321, 331, 341, 351, 361, 371, 381,\n",
       "       391, 401, 411, 421, 431, 441, 451, 461, 471, 481, 491]),\n",
       "                                        'decision_function_shape': ['ovo',\n",
       "                                                                    'ovr'],\n",
       "                                        'gamma': array([ 1, 11, 21, 31, 41, 51, 61, 71, 81, 91]),\n",
       "                                        'kernel': ['rbf', 'linear', 'poly']},\n",
       "                   random_state=42, return_train_score=True,\n",
       "                   scoring=make_scorer(roc_auc_score, response_method='predict', multi_class=ovo),\n",
       "                   verbose=2)"
      ]
     },
     "execution_count": 63,
     "metadata": {},
     "output_type": "execute_result"
    }
   ],
   "source": [
    "best_model.fit(X_train, y_train)"
   ]
  },
  {
   "cell_type": "markdown",
   "metadata": {},
   "source": [
    "### 5. Report the best model"
   ]
  },
  {
   "cell_type": "code",
   "execution_count": 64,
   "metadata": {},
   "outputs": [],
   "source": [
    "def report_best_scores(results, n_top=3):\n",
    "    for i in range(1, n_top + 1):\n",
    "        candidates = np.flatnonzero(results['rank_test_score'] == i)\n",
    "        for candidate in candidates:\n",
    "            print(\"Model with rank: {0}\".format(i))\n",
    "            print(\"Mean validation score: {0:.3f} (std: {1:.3f})\".format(\n",
    "                results['mean_test_score'][candidate],\n",
    "                results['std_test_score'][candidate]))\n",
    "            best_params = results['params'][candidate]\n",
    "            print(\"Best parameters found:\")\n",
    "            for param, value in best_params.items():\n",
    "                print(\"  {0}: {1}\".format(param, value))\n",
    "            print(\"\")"
   ]
  },
  {
   "cell_type": "code",
   "execution_count": 65,
   "metadata": {},
   "outputs": [
    {
     "name": "stdout",
     "output_type": "stream",
     "text": [
      "Model with rank: 1\n",
      "Mean validation score: nan (std: nan)\n",
      "Best parameters found:\n",
      "  kernel: poly\n",
      "  gamma: 61\n",
      "  decision_function_shape: ovo\n",
      "  C: 141\n",
      "\n",
      "Model with rank: 1\n",
      "Mean validation score: nan (std: nan)\n",
      "Best parameters found:\n",
      "  kernel: linear\n",
      "  gamma: 11\n",
      "  decision_function_shape: ovr\n",
      "  C: 211\n",
      "\n",
      "Model with rank: 1\n",
      "Mean validation score: nan (std: nan)\n",
      "Best parameters found:\n",
      "  kernel: poly\n",
      "  gamma: 61\n",
      "  decision_function_shape: ovr\n",
      "  C: 181\n",
      "\n",
      "Model with rank: 1\n",
      "Mean validation score: nan (std: nan)\n",
      "Best parameters found:\n",
      "  kernel: rbf\n",
      "  gamma: 51\n",
      "  decision_function_shape: ovo\n",
      "  C: 181\n",
      "\n",
      "Model with rank: 1\n",
      "Mean validation score: nan (std: nan)\n",
      "Best parameters found:\n",
      "  kernel: rbf\n",
      "  gamma: 61\n",
      "  decision_function_shape: ovo\n",
      "  C: 271\n",
      "\n",
      "Model with rank: 1\n",
      "Mean validation score: nan (std: nan)\n",
      "Best parameters found:\n",
      "  kernel: rbf\n",
      "  gamma: 31\n",
      "  decision_function_shape: ovo\n",
      "  C: 361\n",
      "\n",
      "Model with rank: 1\n",
      "Mean validation score: nan (std: nan)\n",
      "Best parameters found:\n",
      "  kernel: linear\n",
      "  gamma: 51\n",
      "  decision_function_shape: ovr\n",
      "  C: 71\n",
      "\n",
      "Model with rank: 1\n",
      "Mean validation score: nan (std: nan)\n",
      "Best parameters found:\n",
      "  kernel: poly\n",
      "  gamma: 21\n",
      "  decision_function_shape: ovr\n",
      "  C: 201\n",
      "\n",
      "Model with rank: 1\n",
      "Mean validation score: nan (std: nan)\n",
      "Best parameters found:\n",
      "  kernel: rbf\n",
      "  gamma: 1\n",
      "  decision_function_shape: ovr\n",
      "  C: 51\n",
      "\n",
      "Model with rank: 1\n",
      "Mean validation score: nan (std: nan)\n",
      "Best parameters found:\n",
      "  kernel: rbf\n",
      "  gamma: 41\n",
      "  decision_function_shape: ovr\n",
      "  C: 241\n",
      "\n"
     ]
    }
   ],
   "source": [
    "report_best_scores(best_model.cv_results_, 1)"
   ]
  }
 ],
 "metadata": {
  "kernelspec": {
   "display_name": "Python 3",
   "language": "python",
   "name": "python3"
  },
  "language_info": {
   "codemirror_mode": {
    "name": "ipython",
    "version": 3
   },
   "file_extension": ".py",
   "mimetype": "text/x-python",
   "name": "python",
   "nbconvert_exporter": "python",
   "pygments_lexer": "ipython3",
   "version": "3.11.9"
  }
 },
 "nbformat": 4,
 "nbformat_minor": 2
}
